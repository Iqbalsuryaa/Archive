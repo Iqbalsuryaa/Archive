{
  "nbformat": 4,
  "nbformat_minor": 0,
  "metadata": {
    "colab": {
      "provenance": []
    },
    "kernelspec": {
      "name": "python3",
      "display_name": "Python 3"
    },
    "language_info": {
      "name": "python"
    }
  },
  "cells": [
    {
      "cell_type": "markdown",
      "source": [
        "# **TUGAS UTS: UTS PROJECT SEDERHANA NLP PYTHON**"
      ],
      "metadata": {
        "id": "dPyw47H1GThn"
      }
    },
    {
      "cell_type": "markdown",
      "source": [
        "**Sumber** : https://www.liputan6.com/tekno/read/5251534/peneliti-temukan-bukti-smartwatch-ternyata-bisa-jadi-alat-deteksi-dini-risiko-gagal-jantung"
      ],
      "metadata": {
        "id": "LPk7BdtOYjFh"
      }
    },
    {
      "cell_type": "markdown",
      "source": [
        "**NAMA : MOHAMMAD IQBAL SURYA RAMADHAN**\n",
        "\n",
        "**NIM  : 210411100002**\n",
        "\n",
        "**PBA - B**"
      ],
      "metadata": {
        "id": "J6PZUpOKYpz-"
      }
    },
    {
      "cell_type": "markdown",
      "source": [
        "# **1. Pelajari beberapa link berikut :**\n",
        "\n",
        "**A.**https://github.com/ksnugroho/basic-text-preprocessing/blob/master/text-preprocessing.ipynb\n",
        "\n",
        "**B**. https://github.com/anggamaulana/DocumentSimilarity/blob/master/Untitled.ipynb\n",
        "\n",
        "**C. Juga bisa mempelajari diambil dari tempat lain**"
      ],
      "metadata": {
        "id": "V-xqe49dDOY2"
      }
    },
    {
      "cell_type": "markdown",
      "source": [
        "# **2. Buat 2 variable untuk menampung tulisan dalam satu paragraph**\n",
        "\n",
        "**A. Doc1-19_001 berisi cerita kuliah yang disukai singkat dan bebas (misal “saya andi saat ini\n",
        "berkuliah di universitas trunojoyo jurusan teknik informatika. Selama saya menjalani kuliah ada\n",
        "matakuliah yang paling saya sukai karena ...”). (lebih dari 75 kata)**\n",
        "\n",
        "**B. Doc2-19_001 berisi ambil dari 2-3 paragraf berita online terbaru. (lebih dari 75 kata)**\n",
        "\n",
        "**C. Gabungkan dua variable ini menjadi satu variable Doc3-19_001**\n",
        "\n",
        "**D. Tampilkan atau print hasil dari tiga variable tersebut**"
      ],
      "metadata": {
        "id": "MwbMvg9-DS_T"
      }
    },
    {
      "cell_type": "markdown",
      "source": [
        "**Memasukkan kalimat - kalimat yang akan digunakan**"
      ],
      "metadata": {
        "id": "02q3b6akYzqj"
      }
    },
    {
      "cell_type": "code",
      "source": [
        "Doc1_21_002=\"\"\"Hallo semuanya sebelumnya perkenalkan nama saya mohammad iqbal surya ramadhan biasanya dapat kalian panggil iqbal, sekarang saya sedang menempuh Pendidikan jenjang Strata-1 di universitas trunojoyo madura dengan tahun Angkatan 2021.\n",
        "Pada program studi Teknik informatika, Saya sangat tertarik dengan teknologi dan bagaimana kita dapat menggunakannya untuk memecahkan masalah di dunia nyata. Selain itu, saya juga senang melakukan olahraga dan traveling saat waktu senggang dan saya menghabiskan sebagian besar waktu di kampus untuk mengikuti kuliah dan praktikum. Setiap hari, saya bertemu dengan teman-teman sekelas dan dosen yang mengajar mata kuliah yang saya ambil. Saya juga berpartisipasi dalam diskusi dan presentasi, yang membantu saya memahami materi secara lebih baik.\n",
        "\"\"\""
      ],
      "metadata": {
        "id": "yY59Glz_cwLk"
      },
      "execution_count": null,
      "outputs": []
    },
    {
      "cell_type": "code",
      "source": [
        "Doc2_21_002=\"\"\"Sebuah riset terkini yang dipimpin oleh para peneliti dari University College London (UCL) menunjukkan bahwa wearable device seperti smartwatch dapat digunakan untuk mendeteksi risiko orang-orang yang lebih tinggi terkena gagal jantung dan irama jantung tidak teratur di kemudian hari.\n",
        "Riset yang terbit di The European Heart Journal - Digital Health dan telah melalui proses peer-review ini menganalisis data dari 83.000 orang yang telah menjalani elektrokardiogram (EKG) selama 15 detik, yang sebanding dengan EKG yang dilakukan dengan menggunakan smartwatch dan smartphone.\n",
        "Dengan mengidentifikasi rekaman EKG yang mengandung detak jantung ekstra, para peneliti dapat memprediksi risiko terkena gagal jantung atau irama jantung yang tidak teratur selama sepuluh tahun ke depan. Orang dengan detak ekstra dalam rekaman pendek memiliki risiko dua kali lipat terkena gagal jantung atau fibrilasi atrium.\n",
        "Penelitian ini menganalisis rekaman EKG dari orang berusia 50 hingga 70 tahun yang tidak memiliki penyakit kardiovaskular pada saat itu. Gagal jantung terjadi ketika pompa jantung melemah dan tidak dapat diobati dalam banyak kasus.\n",
        "\"\"\""
      ],
      "metadata": {
        "id": "2g-UHsU_c1Xc"
      },
      "execution_count": null,
      "outputs": []
    },
    {
      "cell_type": "code",
      "source": [
        "Doc3_21_002=Doc1_21_012+Doc2_21_002"
      ],
      "metadata": {
        "id": "qXfoU7wSc7K5"
      },
      "execution_count": null,
      "outputs": []
    },
    {
      "cell_type": "code",
      "source": [
        "print(Doc1_21_002)"
      ],
      "metadata": {
        "colab": {
          "base_uri": "https://localhost:8080/"
        },
        "id": "tzDigiJ8c_sF",
        "outputId": "1dbed3d5-9443-444a-a305-7fe92e3ac68e"
      },
      "execution_count": null,
      "outputs": [
        {
          "output_type": "stream",
          "name": "stdout",
          "text": [
            "Hallo semuanya sebelumnya perkenalkan nama saya mohammad iqbal surya ramadhan biasanya dapat kalian panggil iqbal, sekarang saya sedang menempuh Pendidikan jenjang Strata-1 di universitas trunojoyo madura dengan tahun Angkatan 2021.\n",
            "Pada program studi Teknik informatika, Saya sangat tertarik dengan teknologi dan bagaimana kita dapat menggunakannya untuk memecahkan masalah di dunia nyata. Selain itu, saya juga senang melakukan olahraga dan traveling saat waktu senggang dan saya menghabiskan sebagian besar waktu di kampus untuk mengikuti kuliah dan praktikum. Setiap hari, saya bertemu dengan teman-teman sekelas dan dosen yang mengajar mata kuliah yang saya ambil. Saya juga berpartisipasi dalam diskusi dan presentasi, yang membantu saya memahami materi secara lebih baik.\n",
            "\n"
          ]
        }
      ]
    },
    {
      "cell_type": "code",
      "source": [
        "print(Doc2_21_002)"
      ],
      "metadata": {
        "colab": {
          "base_uri": "https://localhost:8080/"
        },
        "id": "QZ7RSAGedAmI",
        "outputId": "a7b79351-e220-4381-bebc-1175432a1ab6"
      },
      "execution_count": null,
      "outputs": [
        {
          "output_type": "stream",
          "name": "stdout",
          "text": [
            "Sebuah riset terkini yang dipimpin oleh para peneliti dari University College London (UCL) menunjukkan bahwa wearable device seperti smartwatch dapat digunakan untuk mendeteksi risiko orang-orang yang lebih tinggi terkena gagal jantung dan irama jantung tidak teratur di kemudian hari.\n",
            "Riset yang terbit di The European Heart Journal - Digital Health dan telah melalui proses peer-review ini menganalisis data dari 83.000 orang yang telah menjalani elektrokardiogram (EKG) selama 15 detik, yang sebanding dengan EKG yang dilakukan dengan menggunakan smartwatch dan smartphone.\n",
            "Dengan mengidentifikasi rekaman EKG yang mengandung detak jantung ekstra, para peneliti dapat memprediksi risiko terkena gagal jantung atau irama jantung yang tidak teratur selama sepuluh tahun ke depan. Orang dengan detak ekstra dalam rekaman pendek memiliki risiko dua kali lipat terkena gagal jantung atau fibrilasi atrium.\n",
            "Penelitian ini menganalisis rekaman EKG dari orang berusia 50 hingga 70 tahun yang tidak memiliki penyakit kardiovaskular pada saat itu. Gagal jantung terjadi ketika pompa jantung melemah dan tidak dapat diobati dalam banyak kasus.\n",
            "\n"
          ]
        }
      ]
    },
    {
      "cell_type": "code",
      "source": [
        "print(Doc3_21_002)"
      ],
      "metadata": {
        "colab": {
          "base_uri": "https://localhost:8080/"
        },
        "id": "0Rr0_OuAdHXL",
        "outputId": "598ee204-d620-4e7c-e2e9-d00cbb665dbd"
      },
      "execution_count": null,
      "outputs": [
        {
          "output_type": "stream",
          "name": "stdout",
          "text": [
            "Hallo semuanya sebelumnya perkenalkan nama saya mohammad iqbal surya ramadhan biasanya dapat kalian panggil iqbal, sekarang saya sedang menempuh Pendidikan jenjang Strata-1 di universitas trunojoyo madura dengan tahun Angkatan 2021.\n",
            "Pada program studi Teknik informatika, Saya sangat tertarik dengan teknologi dan bagaimana kita dapat menggunakannya untuk memecahkan masalah di dunia nyata. Selain itu, saya juga senang melakukan olahraga dan traveling saat waktu senggang dan saya menghabiskan sebagian besar waktu di kampus untuk mengikuti kuliah dan praktikum. Setiap hari, saya bertemu dengan teman-teman sekelas dan dosen yang mengajar mata kuliah yang saya ambil. Saya juga berpartisipasi dalam diskusi dan presentasi, yang membantu saya memahami materi secara lebih baik.\n",
            "Sebuah riset terkini yang dipimpin oleh para peneliti dari University College London (UCL) menunjukkan bahwa wearable device seperti smartwatch dapat digunakan untuk mendeteksi risiko orang-orang yang lebih tinggi terkena gagal jantung dan irama jantung tidak teratur di kemudian hari.\n",
            "Riset yang terbit di The European Heart Journal - Digital Health dan telah melalui proses peer-review ini menganalisis data dari 83.000 orang yang telah menjalani elektrokardiogram (EKG) selama 15 detik, yang sebanding dengan EKG yang dilakukan dengan menggunakan smartwatch dan smartphone.\n",
            "Dengan mengidentifikasi rekaman EKG yang mengandung detak jantung ekstra, para peneliti dapat memprediksi risiko terkena gagal jantung atau irama jantung yang tidak teratur selama sepuluh tahun ke depan. Orang dengan detak ekstra dalam rekaman pendek memiliki risiko dua kali lipat terkena gagal jantung atau fibrilasi atrium.\n",
            "Penelitian ini menganalisis rekaman EKG dari orang berusia 50 hingga 70 tahun yang tidak memiliki penyakit kardiovaskular pada saat itu. Gagal jantung terjadi ketika pompa jantung melemah dan tidak dapat diobati dalam banyak kasus.\n",
            "\n"
          ]
        }
      ]
    },
    {
      "cell_type": "markdown",
      "source": [
        "**Tahap Persiapan** : Library yang dibutuhkan"
      ],
      "metadata": {
        "id": "LhDGjLEsluHl"
      }
    },
    {
      "cell_type": "markdown",
      "source": [
        "**1. Mengistal Natural Language Toolkit (NLTK)**\n",
        "\n",
        "*Natural Language Toolkit atau disingkat NLTK, adalah libray python untuk bekerja dengan permodelan teks. NLTK menyediakan alat yang baik mempersiapkan teks sebelum digunakan pada machine learning atau algoritma deep learning. Cara termudah untuk menginstall NLTK adalah menggunakan “pip” pada command line/terminal.*"
      ],
      "metadata": {
        "id": "_Q8mW9BCY0v7"
      }
    },
    {
      "cell_type": "code",
      "source": [
        "pip install nltk"
      ],
      "metadata": {
        "colab": {
          "base_uri": "https://localhost:8080/"
        },
        "id": "Et2_dP_dY99q",
        "outputId": "84b621c9-c6b3-4429-ea48-d6b1bd3e1ab0"
      },
      "execution_count": null,
      "outputs": [
        {
          "output_type": "stream",
          "name": "stdout",
          "text": [
            "Looking in indexes: https://pypi.org/simple, https://us-python.pkg.dev/colab-wheels/public/simple/\n",
            "Requirement already satisfied: nltk in /usr/local/lib/python3.9/dist-packages (3.8.1)\n",
            "Requirement already satisfied: regex>=2021.8.3 in /usr/local/lib/python3.9/dist-packages (from nltk) (2022.10.31)\n",
            "Requirement already satisfied: joblib in /usr/local/lib/python3.9/dist-packages (from nltk) (1.1.1)\n",
            "Requirement already satisfied: tqdm in /usr/local/lib/python3.9/dist-packages (from nltk) (4.65.0)\n",
            "Requirement already satisfied: click in /usr/local/lib/python3.9/dist-packages (from nltk) (8.1.3)\n"
          ]
        }
      ]
    },
    {
      "cell_type": "markdown",
      "source": [
        "**Import nltk**"
      ],
      "metadata": {
        "id": "TerJaHBjY-vS"
      }
    },
    {
      "cell_type": "code",
      "source": [
        "import nltk\n",
        "nltk.download('all')"
      ],
      "metadata": {
        "colab": {
          "base_uri": "https://localhost:8080/"
        },
        "id": "gKdvMVvIZBhZ",
        "outputId": "caf43ff5-0d4f-4c0a-ce82-88db2afd349f"
      },
      "execution_count": null,
      "outputs": [
        {
          "output_type": "stream",
          "name": "stderr",
          "text": [
            "[nltk_data] Downloading collection 'all'\n",
            "[nltk_data]    | \n",
            "[nltk_data]    | Downloading package abc to /root/nltk_data...\n",
            "[nltk_data]    |   Unzipping corpora/abc.zip.\n",
            "[nltk_data]    | Downloading package alpino to /root/nltk_data...\n",
            "[nltk_data]    |   Unzipping corpora/alpino.zip.\n",
            "[nltk_data]    | Downloading package averaged_perceptron_tagger to\n",
            "[nltk_data]    |     /root/nltk_data...\n",
            "[nltk_data]    |   Unzipping taggers/averaged_perceptron_tagger.zip.\n",
            "[nltk_data]    | Downloading package averaged_perceptron_tagger_ru to\n",
            "[nltk_data]    |     /root/nltk_data...\n",
            "[nltk_data]    |   Unzipping\n",
            "[nltk_data]    |       taggers/averaged_perceptron_tagger_ru.zip.\n",
            "[nltk_data]    | Downloading package basque_grammars to\n",
            "[nltk_data]    |     /root/nltk_data...\n",
            "[nltk_data]    |   Unzipping grammars/basque_grammars.zip.\n",
            "[nltk_data]    | Downloading package bcp47 to /root/nltk_data...\n",
            "[nltk_data]    | Downloading package biocreative_ppi to\n",
            "[nltk_data]    |     /root/nltk_data...\n",
            "[nltk_data]    |   Unzipping corpora/biocreative_ppi.zip.\n",
            "[nltk_data]    | Downloading package bllip_wsj_no_aux to\n",
            "[nltk_data]    |     /root/nltk_data...\n",
            "[nltk_data]    |   Unzipping models/bllip_wsj_no_aux.zip.\n",
            "[nltk_data]    | Downloading package book_grammars to\n",
            "[nltk_data]    |     /root/nltk_data...\n",
            "[nltk_data]    |   Unzipping grammars/book_grammars.zip.\n",
            "[nltk_data]    | Downloading package brown to /root/nltk_data...\n",
            "[nltk_data]    |   Unzipping corpora/brown.zip.\n",
            "[nltk_data]    | Downloading package brown_tei to /root/nltk_data...\n",
            "[nltk_data]    |   Unzipping corpora/brown_tei.zip.\n",
            "[nltk_data]    | Downloading package cess_cat to /root/nltk_data...\n",
            "[nltk_data]    |   Unzipping corpora/cess_cat.zip.\n",
            "[nltk_data]    | Downloading package cess_esp to /root/nltk_data...\n",
            "[nltk_data]    |   Unzipping corpora/cess_esp.zip.\n",
            "[nltk_data]    | Downloading package chat80 to /root/nltk_data...\n",
            "[nltk_data]    |   Unzipping corpora/chat80.zip.\n",
            "[nltk_data]    | Downloading package city_database to\n",
            "[nltk_data]    |     /root/nltk_data...\n",
            "[nltk_data]    |   Unzipping corpora/city_database.zip.\n",
            "[nltk_data]    | Downloading package cmudict to /root/nltk_data...\n",
            "[nltk_data]    |   Unzipping corpora/cmudict.zip.\n",
            "[nltk_data]    | Downloading package comparative_sentences to\n",
            "[nltk_data]    |     /root/nltk_data...\n",
            "[nltk_data]    |   Unzipping corpora/comparative_sentences.zip.\n",
            "[nltk_data]    | Downloading package comtrans to /root/nltk_data...\n",
            "[nltk_data]    | Downloading package conll2000 to /root/nltk_data...\n",
            "[nltk_data]    |   Unzipping corpora/conll2000.zip.\n",
            "[nltk_data]    | Downloading package conll2002 to /root/nltk_data...\n",
            "[nltk_data]    |   Unzipping corpora/conll2002.zip.\n",
            "[nltk_data]    | Downloading package conll2007 to /root/nltk_data...\n",
            "[nltk_data]    | Downloading package crubadan to /root/nltk_data...\n",
            "[nltk_data]    |   Unzipping corpora/crubadan.zip.\n",
            "[nltk_data]    | Downloading package dependency_treebank to\n",
            "[nltk_data]    |     /root/nltk_data...\n",
            "[nltk_data]    |   Unzipping corpora/dependency_treebank.zip.\n",
            "[nltk_data]    | Downloading package dolch to /root/nltk_data...\n",
            "[nltk_data]    |   Unzipping corpora/dolch.zip.\n",
            "[nltk_data]    | Downloading package europarl_raw to\n",
            "[nltk_data]    |     /root/nltk_data...\n",
            "[nltk_data]    |   Unzipping corpora/europarl_raw.zip.\n",
            "[nltk_data]    | Downloading package extended_omw to\n",
            "[nltk_data]    |     /root/nltk_data...\n",
            "[nltk_data]    | Downloading package floresta to /root/nltk_data...\n",
            "[nltk_data]    |   Unzipping corpora/floresta.zip.\n",
            "[nltk_data]    | Downloading package framenet_v15 to\n",
            "[nltk_data]    |     /root/nltk_data...\n",
            "[nltk_data]    |   Unzipping corpora/framenet_v15.zip.\n",
            "[nltk_data]    | Downloading package framenet_v17 to\n",
            "[nltk_data]    |     /root/nltk_data...\n",
            "[nltk_data]    |   Unzipping corpora/framenet_v17.zip.\n",
            "[nltk_data]    | Downloading package gazetteers to /root/nltk_data...\n",
            "[nltk_data]    |   Unzipping corpora/gazetteers.zip.\n",
            "[nltk_data]    | Downloading package genesis to /root/nltk_data...\n",
            "[nltk_data]    |   Unzipping corpora/genesis.zip.\n",
            "[nltk_data]    | Downloading package gutenberg to /root/nltk_data...\n",
            "[nltk_data]    |   Unzipping corpora/gutenberg.zip.\n",
            "[nltk_data]    | Downloading package ieer to /root/nltk_data...\n",
            "[nltk_data]    |   Unzipping corpora/ieer.zip.\n",
            "[nltk_data]    | Downloading package inaugural to /root/nltk_data...\n",
            "[nltk_data]    |   Unzipping corpora/inaugural.zip.\n",
            "[nltk_data]    | Downloading package indian to /root/nltk_data...\n",
            "[nltk_data]    |   Unzipping corpora/indian.zip.\n",
            "[nltk_data]    | Downloading package jeita to /root/nltk_data...\n",
            "[nltk_data]    | Downloading package kimmo to /root/nltk_data...\n",
            "[nltk_data]    |   Unzipping corpora/kimmo.zip.\n",
            "[nltk_data]    | Downloading package knbc to /root/nltk_data...\n",
            "[nltk_data]    | Downloading package large_grammars to\n",
            "[nltk_data]    |     /root/nltk_data...\n",
            "[nltk_data]    |   Unzipping grammars/large_grammars.zip.\n",
            "[nltk_data]    | Downloading package lin_thesaurus to\n",
            "[nltk_data]    |     /root/nltk_data...\n",
            "[nltk_data]    |   Unzipping corpora/lin_thesaurus.zip.\n",
            "[nltk_data]    | Downloading package mac_morpho to /root/nltk_data...\n",
            "[nltk_data]    |   Unzipping corpora/mac_morpho.zip.\n",
            "[nltk_data]    | Downloading package machado to /root/nltk_data...\n",
            "[nltk_data]    | Downloading package masc_tagged to /root/nltk_data...\n",
            "[nltk_data]    | Downloading package maxent_ne_chunker to\n",
            "[nltk_data]    |     /root/nltk_data...\n",
            "[nltk_data]    |   Unzipping chunkers/maxent_ne_chunker.zip.\n",
            "[nltk_data]    | Downloading package maxent_treebank_pos_tagger to\n",
            "[nltk_data]    |     /root/nltk_data...\n",
            "[nltk_data]    |   Unzipping taggers/maxent_treebank_pos_tagger.zip.\n",
            "[nltk_data]    | Downloading package moses_sample to\n",
            "[nltk_data]    |     /root/nltk_data...\n",
            "[nltk_data]    |   Unzipping models/moses_sample.zip.\n",
            "[nltk_data]    | Downloading package movie_reviews to\n",
            "[nltk_data]    |     /root/nltk_data...\n",
            "[nltk_data]    |   Unzipping corpora/movie_reviews.zip.\n",
            "[nltk_data]    | Downloading package mte_teip5 to /root/nltk_data...\n",
            "[nltk_data]    |   Unzipping corpora/mte_teip5.zip.\n",
            "[nltk_data]    | Downloading package mwa_ppdb to /root/nltk_data...\n",
            "[nltk_data]    |   Unzipping misc/mwa_ppdb.zip.\n",
            "[nltk_data]    | Downloading package names to /root/nltk_data...\n",
            "[nltk_data]    |   Unzipping corpora/names.zip.\n",
            "[nltk_data]    | Downloading package nombank.1.0 to /root/nltk_data...\n",
            "[nltk_data]    | Downloading package nonbreaking_prefixes to\n",
            "[nltk_data]    |     /root/nltk_data...\n",
            "[nltk_data]    |   Unzipping corpora/nonbreaking_prefixes.zip.\n",
            "[nltk_data]    | Downloading package nps_chat to /root/nltk_data...\n",
            "[nltk_data]    |   Unzipping corpora/nps_chat.zip.\n",
            "[nltk_data]    | Downloading package omw to /root/nltk_data...\n",
            "[nltk_data]    | Downloading package omw-1.4 to /root/nltk_data...\n",
            "[nltk_data]    | Downloading package opinion_lexicon to\n",
            "[nltk_data]    |     /root/nltk_data...\n",
            "[nltk_data]    |   Unzipping corpora/opinion_lexicon.zip.\n",
            "[nltk_data]    | Downloading package panlex_swadesh to\n",
            "[nltk_data]    |     /root/nltk_data...\n",
            "[nltk_data]    | Downloading package paradigms to /root/nltk_data...\n",
            "[nltk_data]    |   Unzipping corpora/paradigms.zip.\n",
            "[nltk_data]    | Downloading package pe08 to /root/nltk_data...\n",
            "[nltk_data]    |   Unzipping corpora/pe08.zip.\n",
            "[nltk_data]    | Downloading package perluniprops to\n",
            "[nltk_data]    |     /root/nltk_data...\n",
            "[nltk_data]    |   Unzipping misc/perluniprops.zip.\n",
            "[nltk_data]    | Downloading package pil to /root/nltk_data...\n",
            "[nltk_data]    |   Unzipping corpora/pil.zip.\n",
            "[nltk_data]    | Downloading package pl196x to /root/nltk_data...\n",
            "[nltk_data]    |   Unzipping corpora/pl196x.zip.\n",
            "[nltk_data]    | Downloading package porter_test to /root/nltk_data...\n",
            "[nltk_data]    |   Unzipping stemmers/porter_test.zip.\n",
            "[nltk_data]    | Downloading package ppattach to /root/nltk_data...\n",
            "[nltk_data]    |   Unzipping corpora/ppattach.zip.\n",
            "[nltk_data]    | Downloading package problem_reports to\n",
            "[nltk_data]    |     /root/nltk_data...\n",
            "[nltk_data]    |   Unzipping corpora/problem_reports.zip.\n",
            "[nltk_data]    | Downloading package product_reviews_1 to\n",
            "[nltk_data]    |     /root/nltk_data...\n",
            "[nltk_data]    |   Unzipping corpora/product_reviews_1.zip.\n",
            "[nltk_data]    | Downloading package product_reviews_2 to\n",
            "[nltk_data]    |     /root/nltk_data...\n",
            "[nltk_data]    |   Unzipping corpora/product_reviews_2.zip.\n",
            "[nltk_data]    | Downloading package propbank to /root/nltk_data...\n",
            "[nltk_data]    | Downloading package pros_cons to /root/nltk_data...\n",
            "[nltk_data]    |   Unzipping corpora/pros_cons.zip.\n",
            "[nltk_data]    | Downloading package ptb to /root/nltk_data...\n",
            "[nltk_data]    |   Unzipping corpora/ptb.zip.\n",
            "[nltk_data]    | Downloading package punkt to /root/nltk_data...\n",
            "[nltk_data]    |   Unzipping tokenizers/punkt.zip.\n",
            "[nltk_data]    | Downloading package qc to /root/nltk_data...\n",
            "[nltk_data]    |   Unzipping corpora/qc.zip.\n",
            "[nltk_data]    | Downloading package reuters to /root/nltk_data...\n",
            "[nltk_data]    | Downloading package rslp to /root/nltk_data...\n",
            "[nltk_data]    |   Unzipping stemmers/rslp.zip.\n",
            "[nltk_data]    | Downloading package rte to /root/nltk_data...\n",
            "[nltk_data]    |   Unzipping corpora/rte.zip.\n",
            "[nltk_data]    | Downloading package sample_grammars to\n",
            "[nltk_data]    |     /root/nltk_data...\n",
            "[nltk_data]    |   Unzipping grammars/sample_grammars.zip.\n",
            "[nltk_data]    | Downloading package semcor to /root/nltk_data...\n",
            "[nltk_data]    | Downloading package senseval to /root/nltk_data...\n",
            "[nltk_data]    |   Unzipping corpora/senseval.zip.\n",
            "[nltk_data]    | Downloading package sentence_polarity to\n",
            "[nltk_data]    |     /root/nltk_data...\n",
            "[nltk_data]    |   Unzipping corpora/sentence_polarity.zip.\n",
            "[nltk_data]    | Downloading package sentiwordnet to\n",
            "[nltk_data]    |     /root/nltk_data...\n",
            "[nltk_data]    |   Unzipping corpora/sentiwordnet.zip.\n",
            "[nltk_data]    | Downloading package shakespeare to /root/nltk_data...\n",
            "[nltk_data]    |   Unzipping corpora/shakespeare.zip.\n",
            "[nltk_data]    | Downloading package sinica_treebank to\n",
            "[nltk_data]    |     /root/nltk_data...\n",
            "[nltk_data]    |   Unzipping corpora/sinica_treebank.zip.\n",
            "[nltk_data]    | Downloading package smultron to /root/nltk_data...\n",
            "[nltk_data]    |   Unzipping corpora/smultron.zip.\n",
            "[nltk_data]    | Downloading package snowball_data to\n",
            "[nltk_data]    |     /root/nltk_data...\n",
            "[nltk_data]    | Downloading package spanish_grammars to\n",
            "[nltk_data]    |     /root/nltk_data...\n",
            "[nltk_data]    |   Unzipping grammars/spanish_grammars.zip.\n",
            "[nltk_data]    | Downloading package state_union to /root/nltk_data...\n",
            "[nltk_data]    |   Unzipping corpora/state_union.zip.\n",
            "[nltk_data]    | Downloading package stopwords to /root/nltk_data...\n",
            "[nltk_data]    |   Unzipping corpora/stopwords.zip.\n",
            "[nltk_data]    | Downloading package subjectivity to\n",
            "[nltk_data]    |     /root/nltk_data...\n",
            "[nltk_data]    |   Unzipping corpora/subjectivity.zip.\n",
            "[nltk_data]    | Downloading package swadesh to /root/nltk_data...\n",
            "[nltk_data]    |   Unzipping corpora/swadesh.zip.\n",
            "[nltk_data]    | Downloading package switchboard to /root/nltk_data...\n",
            "[nltk_data]    |   Unzipping corpora/switchboard.zip.\n",
            "[nltk_data]    | Downloading package tagsets to /root/nltk_data...\n",
            "[nltk_data]    |   Unzipping help/tagsets.zip.\n",
            "[nltk_data]    | Downloading package timit to /root/nltk_data...\n",
            "[nltk_data]    |   Unzipping corpora/timit.zip.\n",
            "[nltk_data]    | Downloading package toolbox to /root/nltk_data...\n",
            "[nltk_data]    |   Unzipping corpora/toolbox.zip.\n",
            "[nltk_data]    | Downloading package treebank to /root/nltk_data...\n",
            "[nltk_data]    |   Unzipping corpora/treebank.zip.\n",
            "[nltk_data]    | Downloading package twitter_samples to\n",
            "[nltk_data]    |     /root/nltk_data...\n",
            "[nltk_data]    |   Unzipping corpora/twitter_samples.zip.\n",
            "[nltk_data]    | Downloading package udhr to /root/nltk_data...\n",
            "[nltk_data]    |   Unzipping corpora/udhr.zip.\n",
            "[nltk_data]    | Downloading package udhr2 to /root/nltk_data...\n",
            "[nltk_data]    |   Unzipping corpora/udhr2.zip.\n",
            "[nltk_data]    | Downloading package unicode_samples to\n",
            "[nltk_data]    |     /root/nltk_data...\n",
            "[nltk_data]    |   Unzipping corpora/unicode_samples.zip.\n",
            "[nltk_data]    | Downloading package universal_tagset to\n",
            "[nltk_data]    |     /root/nltk_data...\n",
            "[nltk_data]    |   Unzipping taggers/universal_tagset.zip.\n",
            "[nltk_data]    | Downloading package universal_treebanks_v20 to\n",
            "[nltk_data]    |     /root/nltk_data...\n",
            "[nltk_data]    | Downloading package vader_lexicon to\n",
            "[nltk_data]    |     /root/nltk_data...\n",
            "[nltk_data]    | Downloading package verbnet to /root/nltk_data...\n",
            "[nltk_data]    |   Unzipping corpora/verbnet.zip.\n",
            "[nltk_data]    | Downloading package verbnet3 to /root/nltk_data...\n",
            "[nltk_data]    |   Unzipping corpora/verbnet3.zip.\n",
            "[nltk_data]    | Downloading package webtext to /root/nltk_data...\n",
            "[nltk_data]    |   Unzipping corpora/webtext.zip.\n",
            "[nltk_data]    | Downloading package wmt15_eval to /root/nltk_data...\n",
            "[nltk_data]    |   Unzipping models/wmt15_eval.zip.\n",
            "[nltk_data]    | Downloading package word2vec_sample to\n",
            "[nltk_data]    |     /root/nltk_data...\n",
            "[nltk_data]    |   Unzipping models/word2vec_sample.zip.\n",
            "[nltk_data]    | Downloading package wordnet to /root/nltk_data...\n",
            "[nltk_data]    | Downloading package wordnet2021 to /root/nltk_data...\n",
            "[nltk_data]    | Downloading package wordnet2022 to /root/nltk_data...\n",
            "[nltk_data]    |   Unzipping corpora/wordnet2022.zip.\n",
            "[nltk_data]    | Downloading package wordnet31 to /root/nltk_data...\n",
            "[nltk_data]    | Downloading package wordnet_ic to /root/nltk_data...\n",
            "[nltk_data]    |   Unzipping corpora/wordnet_ic.zip.\n",
            "[nltk_data]    | Downloading package words to /root/nltk_data...\n",
            "[nltk_data]    |   Unzipping corpora/words.zip.\n",
            "[nltk_data]    | Downloading package ycoe to /root/nltk_data...\n",
            "[nltk_data]    |   Unzipping corpora/ycoe.zip.\n",
            "[nltk_data]    | \n",
            "[nltk_data]  Done downloading collection all\n"
          ]
        },
        {
          "output_type": "execute_result",
          "data": {
            "text/plain": [
              "True"
            ]
          },
          "metadata": {},
          "execution_count": 14
        }
      ]
    },
    {
      "cell_type": "markdown",
      "source": [
        "# **3. Lakukan proses tokenisasi kalimat terhadap variable gabungan yang telah dibuat, kemudian**\n",
        "**tampilkan atau print hasilnya**"
      ],
      "metadata": {
        "id": "pNgaWybHDjYB"
      }
    },
    {
      "cell_type": "markdown",
      "source": [
        "**Proses Tokenizing: Word Tokenizing Using NLTK Module**\n",
        "\n",
        "*Menggunakan library NLTK untuk memisahkan kata dalam sebuah kalimat.*"
      ],
      "metadata": {
        "id": "kRSUz1tohAUG"
      }
    },
    {
      "cell_type": "code",
      "source": [
        "from nltk.tokenize import word_tokenize \n",
        " \n",
        "kalimat = \"\"\"Hallo semuanya sebelumnya perkenalkan nama saya mohammad iqbal surya ramadhan biasanya dapat kalian panggil iqbal, sekarang saya sedang menempuh Pendidikan jenjang Strata-1 di universitas trunojoyo madura dengan tahun Angkatan 2021.\n",
        "Pada program studi Teknik informatika, Saya sangat tertarik dengan teknologi dan bagaimana kita dapat menggunakannya untuk memecahkan masalah di dunia nyata. Selain itu, saya juga senang melakukan olahraga dan traveling saat waktu senggang dan saya menghabiskan sebagian besar waktu di kampus untuk mengikuti kuliah dan praktikum. Setiap hari, saya bertemu dengan teman-teman sekelas dan dosen yang mengajar mata kuliah yang saya ambil. Saya juga berpartisipasi dalam diskusi dan presentasi, yang membantu saya memahami materi secara lebih baik.\n",
        "\"\"\"\n",
        "\n",
        "tokens = nltk.tokenize.word_tokenize(kalimat)\n",
        "print(tokens)"
      ],
      "metadata": {
        "colab": {
          "base_uri": "https://localhost:8080/"
        },
        "id": "GsXK-pcqhGTk",
        "outputId": "67c63611-378e-4996-ec63-79c0ef029841"
      },
      "execution_count": null,
      "outputs": [
        {
          "output_type": "stream",
          "name": "stdout",
          "text": [
            "['Hallo', 'semuanya', 'sebelumnya', 'perkenalkan', 'nama', 'saya', 'mohammad', 'iqbal', 'surya', 'ramadhan', 'biasanya', 'dapat', 'kalian', 'panggil', 'iqbal', ',', 'sekarang', 'saya', 'sedang', 'menempuh', 'Pendidikan', 'jenjang', 'Strata-1', 'di', 'universitas', 'trunojoyo', 'madura', 'dengan', 'tahun', 'Angkatan', '2021', '.', 'Pada', 'program', 'studi', 'Teknik', 'informatika', ',', 'Saya', 'sangat', 'tertarik', 'dengan', 'teknologi', 'dan', 'bagaimana', 'kita', 'dapat', 'menggunakannya', 'untuk', 'memecahkan', 'masalah', 'di', 'dunia', 'nyata', '.', 'Selain', 'itu', ',', 'saya', 'juga', 'senang', 'melakukan', 'olahraga', 'dan', 'traveling', 'saat', 'waktu', 'senggang', 'dan', 'saya', 'menghabiskan', 'sebagian', 'besar', 'waktu', 'di', 'kampus', 'untuk', 'mengikuti', 'kuliah', 'dan', 'praktikum', '.', 'Setiap', 'hari', ',', 'saya', 'bertemu', 'dengan', 'teman-teman', 'sekelas', 'dan', 'dosen', 'yang', 'mengajar', 'mata', 'kuliah', 'yang', 'saya', 'ambil', '.', 'Saya', 'juga', 'berpartisipasi', 'dalam', 'diskusi', 'dan', 'presentasi', ',', 'yang', 'membantu', 'saya', 'memahami', 'materi', 'secara', 'lebih', 'baik', '.']\n"
          ]
        }
      ]
    },
    {
      "cell_type": "markdown",
      "source": [
        "**Tokenizing: Sentences Tokenizing Using NLTK Module**\n",
        "\n",
        "*Memisahkan kalimat dalam sebuah paragraf.*"
      ],
      "metadata": {
        "id": "An4v4EUYhegI"
      }
    },
    {
      "cell_type": "code",
      "source": [
        "from nltk.tokenize import sent_tokenize\n",
        "\n",
        "kalimat = \"\"\"Hallo semuanya sebelumnya perkenalkan nama saya mohammad iqbal surya ramadhan biasanya dapat kalian panggil iqbal, sekarang saya sedang menempuh Pendidikan jenjang Strata-1 di universitas trunojoyo madura dengan tahun Angkatan 2021.\n",
        "Pada program studi Teknik informatika, Saya sangat tertarik dengan teknologi dan bagaimana kita dapat menggunakannya untuk memecahkan masalah di dunia nyata. Selain itu, saya juga senang melakukan olahraga dan traveling saat waktu senggang dan saya menghabiskan sebagian besar waktu di kampus untuk mengikuti kuliah dan praktikum. Setiap hari, saya bertemu dengan teman-teman sekelas dan dosen yang mengajar mata kuliah yang saya ambil. Saya juga berpartisipasi dalam diskusi dan presentasi, yang membantu saya memahami materi secara lebih baik.\n",
        "\"\"\"\n",
        "tokens = nltk.tokenize.sent_tokenize(kalimat)\n",
        "print(tokens)"
      ],
      "metadata": {
        "colab": {
          "base_uri": "https://localhost:8080/"
        },
        "id": "HVrJUELxhfQO",
        "outputId": "7bf83b01-987e-4c89-9869-83c5fb2ae76b"
      },
      "execution_count": null,
      "outputs": [
        {
          "output_type": "stream",
          "name": "stdout",
          "text": [
            "['Hallo semuanya sebelumnya perkenalkan nama saya mohammad iqbal surya ramadhan biasanya dapat kalian panggil iqbal, sekarang saya sedang menempuh Pendidikan jenjang Strata-1 di universitas trunojoyo madura dengan tahun Angkatan 2021.', 'Pada program studi Teknik informatika, Saya sangat tertarik dengan teknologi dan bagaimana kita dapat menggunakannya untuk memecahkan masalah di dunia nyata.', 'Selain itu, saya juga senang melakukan olahraga dan traveling saat waktu senggang dan saya menghabiskan sebagian besar waktu di kampus untuk mengikuti kuliah dan praktikum.', 'Setiap hari, saya bertemu dengan teman-teman sekelas dan dosen yang mengajar mata kuliah yang saya ambil.', 'Saya juga berpartisipasi dalam diskusi dan presentasi, yang membantu saya memahami materi secara lebih baik.']\n"
          ]
        }
      ]
    },
    {
      "cell_type": "markdown",
      "source": [
        "**2. Python Sastrawi**\n",
        "\n",
        "*Pengembangan dari proyek PHP Sastrawi. Python Sastrawi merupakan library sederhana yang dapat mengubah kata berimbuhan bahasa Indonesia menjadi bentuk dasarnya. Sastrawi juga dapat diinstal melalui “pip”.*"
      ],
      "metadata": {
        "id": "mSlr8A-RZEMi"
      }
    },
    {
      "cell_type": "code",
      "source": [
        "pip install Sastrawi"
      ],
      "metadata": {
        "colab": {
          "base_uri": "https://localhost:8080/"
        },
        "id": "r2afGpS7ZMmW",
        "outputId": "9f2e6159-75fa-42e9-c5a1-9adad30f0883"
      },
      "execution_count": null,
      "outputs": [
        {
          "output_type": "stream",
          "name": "stdout",
          "text": [
            "Looking in indexes: https://pypi.org/simple, https://us-python.pkg.dev/colab-wheels/public/simple/\n",
            "Collecting Sastrawi\n",
            "  Downloading Sastrawi-1.0.1-py2.py3-none-any.whl (209 kB)\n",
            "\u001b[2K     \u001b[90m━━━━━━━━━━━━━━━━━━━━━━━━━━━━━━━━━━━━━━━\u001b[0m \u001b[32m209.7/209.7 KB\u001b[0m \u001b[31m5.5 MB/s\u001b[0m eta \u001b[36m0:00:00\u001b[0m\n",
            "\u001b[?25hInstalling collected packages: Sastrawi\n",
            "Successfully installed Sastrawi-1.0.1\n"
          ]
        }
      ]
    },
    {
      "cell_type": "markdown",
      "source": [
        "# **4. Lakukan proses menghapus angka, tanda baca dan stopword dari 2 variable yang telah dibuat,** **kemudian tampilkan atau print hasilnya.**"
      ],
      "metadata": {
        "id": "QhDtDfxSh5jk"
      }
    },
    {
      "cell_type": "markdown",
      "source": [
        "**Variabel 1**"
      ],
      "metadata": {
        "id": "vAMyS8FoiFm5"
      }
    },
    {
      "cell_type": "markdown",
      "source": [
        "**Case folding**\n",
        "\n",
        "*Case folding adalah salah satu bentuk text preprocessing yang paling sederhana dan efektif meskipun sering diabaikan. Tujuan dari case folding untuk mengubah semua huruf dalam dokumen menjadi huruf kecil. Hanya huruf ‘a’ sampai ‘z’ yang diterima. Karakter selain huruf dihilangkan dan dianggap delimiter. Pada tahap ini tidak menggunakan external library apapun, kita bisa memanfaatkan modul yang tersedia di python.*\n",
        "\n",
        "**Ada beberapa cara yang dapat digunakan dalam tahap case folding Diantaranya:**"
      ],
      "metadata": {
        "id": "72rRPBbfZNpF"
      }
    },
    {
      "cell_type": "markdown",
      "source": [
        "**Case Folding: Removing Number**\n",
        "\n",
        "*Menghapus karakter angka.*"
      ],
      "metadata": {
        "id": "aDbDWonbiMbZ"
      }
    },
    {
      "cell_type": "code",
      "source": [
        "import re \n",
        "\n",
        "kalimat1 = Doc1_21_002\n",
        "kalimat2 = Doc2_21_002\n",
        "hasil1 = re.sub(r\"\\d+\", \"\", kalimat1)\n",
        "hasil2 = re.sub(r\"\\d+\", \"\", kalimat2)\n",
        "\n",
        "print(hasil1)\n",
        "print(hasil2)\n"
      ],
      "metadata": {
        "colab": {
          "base_uri": "https://localhost:8080/"
        },
        "id": "CgK3ybFFi3uT",
        "outputId": "034f2edb-f3c2-4796-fc1b-c54dca6fe05d"
      },
      "execution_count": null,
      "outputs": [
        {
          "output_type": "stream",
          "name": "stdout",
          "text": [
            "Hallo semuanya sebelumnya perkenalkan nama saya mohammad iqbal surya ramadhan biasanya dapat kalian panggil iqbal, sekarang saya sedang menempuh Pendidikan jenjang Strata- di universitas trunojoyo madura dengan tahun Angkatan .\n",
            "Pada program studi Teknik informatika, Saya sangat tertarik dengan teknologi dan bagaimana kita dapat menggunakannya untuk memecahkan masalah di dunia nyata. Selain itu, saya juga senang melakukan olahraga dan traveling saat waktu senggang dan saya menghabiskan sebagian besar waktu di kampus untuk mengikuti kuliah dan praktikum. Setiap hari, saya bertemu dengan teman-teman sekelas dan dosen yang mengajar mata kuliah yang saya ambil. Saya juga berpartisipasi dalam diskusi dan presentasi, yang membantu saya memahami materi secara lebih baik.\n",
            "\n",
            "Sebuah riset terkini yang dipimpin oleh para peneliti dari University College London (UCL) menunjukkan bahwa wearable device seperti smartwatch dapat digunakan untuk mendeteksi risiko orang-orang yang lebih tinggi terkena gagal jantung dan irama jantung tidak teratur di kemudian hari.\n",
            "Riset yang terbit di The European Heart Journal - Digital Health dan telah melalui proses peer-review ini menganalisis data dari . orang yang telah menjalani elektrokardiogram (EKG) selama  detik, yang sebanding dengan EKG yang dilakukan dengan menggunakan smartwatch dan smartphone.\n",
            "Dengan mengidentifikasi rekaman EKG yang mengandung detak jantung ekstra, para peneliti dapat memprediksi risiko terkena gagal jantung atau irama jantung yang tidak teratur selama sepuluh tahun ke depan. Orang dengan detak ekstra dalam rekaman pendek memiliki risiko dua kali lipat terkena gagal jantung atau fibrilasi atrium.\n",
            "Penelitian ini menganalisis rekaman EKG dari orang berusia  hingga  tahun yang tidak memiliki penyakit kardiovaskular pada saat itu. Gagal jantung terjadi ketika pompa jantung melemah dan tidak dapat diobati dalam banyak kasus.\n",
            "\n"
          ]
        }
      ]
    },
    {
      "cell_type": "markdown",
      "source": [
        "**Case Folding: Removing Punctuation**\n",
        "\n",
        "*Menghapus karakter tanda baca. doc1 dan doc2*"
      ],
      "metadata": {
        "id": "_1_vaJJdjEyv"
      }
    },
    {
      "cell_type": "code",
      "source": [
        "import string\n",
        "\n",
        "kalimat1 = Doc1_21_002\n",
        "kalimat2 = Doc2_21_002\n",
        "hasil1 = kalimat1.translate(str.maketrans(\"\",\"\",string.punctuation))\n",
        "hasil2 = kalimat2.translate(str.maketrans(\"\",\"\",string.punctuation))\n",
        "print(hasil1)\n",
        "print(hasil2)"
      ],
      "metadata": {
        "colab": {
          "base_uri": "https://localhost:8080/"
        },
        "id": "xW9FC0R5jGq2",
        "outputId": "b565feeb-5b33-435d-91b4-4814154107d0"
      },
      "execution_count": null,
      "outputs": [
        {
          "output_type": "stream",
          "name": "stdout",
          "text": [
            "Hallo semuanya sebelumnya perkenalkan nama saya mohammad iqbal surya ramadhan biasanya dapat kalian panggil iqbal sekarang saya sedang menempuh Pendidikan jenjang Strata1 di universitas trunojoyo madura dengan tahun Angkatan 2021\n",
            "Pada program studi Teknik informatika Saya sangat tertarik dengan teknologi dan bagaimana kita dapat menggunakannya untuk memecahkan masalah di dunia nyata Selain itu saya juga senang melakukan olahraga dan traveling saat waktu senggang dan saya menghabiskan sebagian besar waktu di kampus untuk mengikuti kuliah dan praktikum Setiap hari saya bertemu dengan temanteman sekelas dan dosen yang mengajar mata kuliah yang saya ambil Saya juga berpartisipasi dalam diskusi dan presentasi yang membantu saya memahami materi secara lebih baik\n",
            "\n",
            "Sebuah riset terkini yang dipimpin oleh para peneliti dari University College London UCL menunjukkan bahwa wearable device seperti smartwatch dapat digunakan untuk mendeteksi risiko orangorang yang lebih tinggi terkena gagal jantung dan irama jantung tidak teratur di kemudian hari\n",
            "Riset yang terbit di The European Heart Journal  Digital Health dan telah melalui proses peerreview ini menganalisis data dari 83000 orang yang telah menjalani elektrokardiogram EKG selama 15 detik yang sebanding dengan EKG yang dilakukan dengan menggunakan smartwatch dan smartphone\n",
            "Dengan mengidentifikasi rekaman EKG yang mengandung detak jantung ekstra para peneliti dapat memprediksi risiko terkena gagal jantung atau irama jantung yang tidak teratur selama sepuluh tahun ke depan Orang dengan detak ekstra dalam rekaman pendek memiliki risiko dua kali lipat terkena gagal jantung atau fibrilasi atrium\n",
            "Penelitian ini menganalisis rekaman EKG dari orang berusia 50 hingga 70 tahun yang tidak memiliki penyakit kardiovaskular pada saat itu Gagal jantung terjadi ketika pompa jantung melemah dan tidak dapat diobati dalam banyak kasus\n",
            "\n"
          ]
        }
      ]
    },
    {
      "cell_type": "markdown",
      "source": [
        "**Filtering using Sastrawi: Stopword List**\n",
        "\n",
        "*Melihat daftar stopword pada Sastrawi.* "
      ],
      "metadata": {
        "id": "sFzxzOzajXp4"
      }
    },
    {
      "cell_type": "code",
      "source": [
        "from Sastrawi.StopWordRemover.StopWordRemoverFactory import StopWordRemoverFactory\n",
        " \n",
        "factory = StopWordRemoverFactory()\n",
        "stopwords = factory.get_stop_words()\n",
        "print(stopwords)"
      ],
      "metadata": {
        "colab": {
          "base_uri": "https://localhost:8080/"
        },
        "id": "QlhMvWxYjYSx",
        "outputId": "9b392e0f-b036-4000-806d-0246f7c873d9"
      },
      "execution_count": null,
      "outputs": [
        {
          "output_type": "stream",
          "name": "stdout",
          "text": [
            "['yang', 'untuk', 'pada', 'ke', 'para', 'namun', 'menurut', 'antara', 'dia', 'dua', 'ia', 'seperti', 'jika', 'jika', 'sehingga', 'kembali', 'dan', 'tidak', 'ini', 'karena', 'kepada', 'oleh', 'saat', 'harus', 'sementara', 'setelah', 'belum', 'kami', 'sekitar', 'bagi', 'serta', 'di', 'dari', 'telah', 'sebagai', 'masih', 'hal', 'ketika', 'adalah', 'itu', 'dalam', 'bisa', 'bahwa', 'atau', 'hanya', 'kita', 'dengan', 'akan', 'juga', 'ada', 'mereka', 'sudah', 'saya', 'terhadap', 'secara', 'agar', 'lain', 'anda', 'begitu', 'mengapa', 'kenapa', 'yaitu', 'yakni', 'daripada', 'itulah', 'lagi', 'maka', 'tentang', 'demi', 'dimana', 'kemana', 'pula', 'sambil', 'sebelum', 'sesudah', 'supaya', 'guna', 'kah', 'pun', 'sampai', 'sedangkan', 'selagi', 'sementara', 'tetapi', 'apakah', 'kecuali', 'sebab', 'selain', 'seolah', 'seraya', 'seterusnya', 'tanpa', 'agak', 'boleh', 'dapat', 'dsb', 'dst', 'dll', 'dahulu', 'dulunya', 'anu', 'demikian', 'tapi', 'ingin', 'juga', 'nggak', 'mari', 'nanti', 'melainkan', 'oh', 'ok', 'seharusnya', 'sebetulnya', 'setiap', 'setidaknya', 'sesuatu', 'pasti', 'saja', 'toh', 'ya', 'walau', 'tolong', 'tentu', 'amat', 'apalagi', 'bagaimanapun']\n"
          ]
        }
      ]
    },
    {
      "cell_type": "markdown",
      "source": [
        "**Filtering using Sastrawi**\n",
        "\n",
        "*menghilangkan stopword pada kalimat doc1 dan doc2* "
      ],
      "metadata": {
        "id": "J4e6yeMOjjOH"
      }
    },
    {
      "cell_type": "code",
      "source": [
        "from Sastrawi.StopWordRemover.StopWordRemoverFactory import StopWordRemoverFactory\n",
        "from nltk.tokenize import word_tokenize \n",
        "\n",
        "factory = StopWordRemoverFactory()\n",
        "stopword = factory.create_stop_word_remover()\n",
        "\n",
        "kalimat1 = Doc1_21_002\n",
        "kalimat2 = Doc2_21_002\n",
        "kalimat1 = kalimat1.translate(str.maketrans('','',string.punctuation)).lower()\n",
        "kalimat2 = kalimat2.translate(str.maketrans('','',string.punctuation)).lower()\n",
        "\n",
        "stop1 = stopword.remove(kalimat1)\n",
        "stop2 = stopword.remove(kalimat2)\n",
        "tokens1 = nltk.tokenize.word_tokenize(stop1)\n",
        "tokens2 = nltk.tokenize.word_tokenize(stop2)\n",
        "\n",
        "print(tokens1)\n",
        "print(tokens2)"
      ],
      "metadata": {
        "colab": {
          "base_uri": "https://localhost:8080/"
        },
        "id": "HrjS8yaFjn6l",
        "outputId": "c8fed7b4-0b3c-49bc-f21a-fc1bfa16a1c8"
      },
      "execution_count": null,
      "outputs": [
        {
          "output_type": "stream",
          "name": "stdout",
          "text": [
            "['hallo', 'semuanya', 'sebelumnya', 'perkenalkan', 'nama', 'mohammad', 'iqbal', 'surya', 'ramadhan', 'biasanya', 'kalian', 'panggil', 'iqbal', 'sekarang', 'sedang', 'menempuh', 'pendidikan', 'jenjang', 'strata1', 'universitas', 'trunojoyo', 'madura', 'tahun', 'angkatan', '2021', 'pada', 'program', 'studi', 'teknik', 'informatika', 'sangat', 'tertarik', 'teknologi', 'bagaimana', 'dapat', 'menggunakannya', 'memecahkan', 'masalah', 'dunia', 'nyata', 'itu', 'juga', 'senang', 'melakukan', 'olahraga', 'traveling', 'waktu', 'senggang', 'menghabiskan', 'sebagian', 'besar', 'waktu', 'kampus', 'mengikuti', 'kuliah', 'praktikum', 'hari', 'bertemu', 'temanteman', 'sekelas', 'dosen', 'mengajar', 'mata', 'kuliah', 'ambil', 'saya', 'juga', 'berpartisipasi', 'diskusi', 'presentasi', 'membantu', 'saya', 'memahami', 'materi', 'lebih', 'baik']\n",
            "['sebuah', 'riset', 'terkini', 'dipimpin', 'peneliti', 'university', 'college', 'london', 'ucl', 'menunjukkan', 'wearable', 'device', 'smartwatch', 'digunakan', 'mendeteksi', 'risiko', 'orangorang', 'lebih', 'tinggi', 'terkena', 'gagal', 'jantung', 'irama', 'jantung', 'teratur', 'kemudian', 'hari', 'riset', 'terbit', 'the', 'european', 'heart', 'journal', 'digital', 'health', 'telah', 'melalui', 'proses', 'peerreview', 'menganalisis', 'data', '83000', 'orang', 'telah', 'menjalani', 'elektrokardiogram', 'ekg', 'selama', '15', 'detik', 'sebanding', 'ekg', 'dilakukan', 'menggunakan', 'smartwatch', 'smartphone', 'dengan', 'mengidentifikasi', 'rekaman', 'ekg', 'mengandung', 'detak', 'jantung', 'ekstra', 'para', 'peneliti', 'memprediksi', 'risiko', 'terkena', 'gagal', 'jantung', 'irama', 'jantung', 'tidak', 'teratur', 'selama', 'sepuluh', 'tahun', 'depan', 'orang', 'detak', 'ekstra', 'rekaman', 'pendek', 'memiliki', 'risiko', 'kali', 'lipat', 'terkena', 'gagal', 'jantung', 'fibrilasi', 'atrium', 'penelitian', 'menganalisis', 'rekaman', 'ekg', 'orang', 'berusia', '50', 'hingga', '70', 'tahun', 'tidak', 'memiliki', 'penyakit', 'kardiovaskular', 'saat', 'gagal', 'jantung', 'terjadi', 'pompa', 'jantung', 'melemah', 'tidak', 'diobati', 'banyak', 'kasus']\n"
          ]
        }
      ]
    },
    {
      "cell_type": "markdown",
      "source": [
        "# **5. Lakukan proses untuk**\n",
        "\n",
        "**a. Menghitung frekuensi kemunculan setiap tokens(kata) dalam teks**\n",
        "\n",
        "**b. Menggambarkan frekuensi kemunculan setiap tokens dapat menggunakan library matplotlib**\n",
        "\n",
        "**c. Kemudian tampilkan atau print hasilnya.**"
      ],
      "metadata": {
        "id": "3XkTvnC-j8Eg"
      }
    },
    {
      "cell_type": "markdown",
      "source": [
        "**a. Frequency Distribution**\n",
        "\n",
        "*Menghitung frekuensi kemunculan setiap tokens(kata) dalam teks.*"
      ],
      "metadata": {
        "id": "RQVRh3-SkFq-"
      }
    },
    {
      "cell_type": "code",
      "source": [
        "from nltk.tokenize import word_tokenize\n",
        "from nltk.probability import FreqDist\n",
        "\n",
        "kalimat1 = Doc1_21_002\n",
        "kalimat2 = Doc2_21_002\n",
        "kalimat3 = Doc3_21_002\n",
        "\n",
        "kalimat1 = kalimat1.translate(str.maketrans('','',string.punctuation)).lower()\n",
        "kalimat2 = kalimat2.translate(str.maketrans('','',string.punctuation)).lower()\n",
        "kalimat3 = kalimat3.translate(str.maketrans('','',string.punctuation)).lower()\n",
        "\n",
        "tokens1 = nltk.tokenize.word_tokenize(kalimat1)\n",
        "tokens2 = nltk.tokenize.word_tokenize(kalimat2)\n",
        "tokens3 = nltk.tokenize.word_tokenize(kalimat3)\n",
        "\n",
        "kemunculan1 = nltk.FreqDist(tokens1)\n",
        "kemunculan2 = nltk.FreqDist(tokens2)\n",
        "kemunculan3 = nltk.FreqDist(tokens3)\n",
        "\n",
        "print(kemunculan1.most_common())\n",
        "print(kemunculan2.most_common())\n",
        "print(kemunculan3.most_common())"
      ],
      "metadata": {
        "colab": {
          "base_uri": "https://localhost:8080/"
        },
        "id": "6z8Y1jHbkJLX",
        "outputId": "a4e56360-9f3c-4f07-f9fc-c5f46c950d9e"
      },
      "execution_count": null,
      "outputs": [
        {
          "output_type": "stream",
          "name": "stdout",
          "text": [
            "[('saya', 9), ('dan', 6), ('di', 3), ('dengan', 3), ('yang', 3), ('iqbal', 2), ('dapat', 2), ('untuk', 2), ('juga', 2), ('waktu', 2), ('kuliah', 2), ('hallo', 1), ('semuanya', 1), ('sebelumnya', 1), ('perkenalkan', 1), ('nama', 1), ('mohammad', 1), ('surya', 1), ('ramadhan', 1), ('biasanya', 1), ('kalian', 1), ('panggil', 1), ('sekarang', 1), ('sedang', 1), ('menempuh', 1), ('pendidikan', 1), ('jenjang', 1), ('strata1', 1), ('universitas', 1), ('trunojoyo', 1), ('madura', 1), ('tahun', 1), ('angkatan', 1), ('2021', 1), ('pada', 1), ('program', 1), ('studi', 1), ('teknik', 1), ('informatika', 1), ('sangat', 1), ('tertarik', 1), ('teknologi', 1), ('bagaimana', 1), ('kita', 1), ('menggunakannya', 1), ('memecahkan', 1), ('masalah', 1), ('dunia', 1), ('nyata', 1), ('selain', 1), ('itu', 1), ('senang', 1), ('melakukan', 1), ('olahraga', 1), ('traveling', 1), ('saat', 1), ('senggang', 1), ('menghabiskan', 1), ('sebagian', 1), ('besar', 1), ('kampus', 1), ('mengikuti', 1), ('praktikum', 1), ('setiap', 1), ('hari', 1), ('bertemu', 1), ('temanteman', 1), ('sekelas', 1), ('dosen', 1), ('mengajar', 1), ('mata', 1), ('ambil', 1), ('berpartisipasi', 1), ('dalam', 1), ('diskusi', 1), ('presentasi', 1), ('membantu', 1), ('memahami', 1), ('materi', 1), ('secara', 1), ('lebih', 1), ('baik', 1)]\n",
            "[('yang', 9), ('jantung', 8), ('gagal', 4), ('dan', 4), ('tidak', 4), ('ekg', 4), ('dengan', 4), ('dari', 3), ('dapat', 3), ('risiko', 3), ('terkena', 3), ('orang', 3), ('rekaman', 3), ('riset', 2), ('para', 2), ('peneliti', 2), ('smartwatch', 2), ('irama', 2), ('teratur', 2), ('di', 2), ('telah', 2), ('ini', 2), ('menganalisis', 2), ('selama', 2), ('detak', 2), ('ekstra', 2), ('atau', 2), ('tahun', 2), ('dalam', 2), ('memiliki', 2), ('sebuah', 1), ('terkini', 1), ('dipimpin', 1), ('oleh', 1), ('university', 1), ('college', 1), ('london', 1), ('ucl', 1), ('menunjukkan', 1), ('bahwa', 1), ('wearable', 1), ('device', 1), ('seperti', 1), ('digunakan', 1), ('untuk', 1), ('mendeteksi', 1), ('orangorang', 1), ('lebih', 1), ('tinggi', 1), ('kemudian', 1), ('hari', 1), ('terbit', 1), ('the', 1), ('european', 1), ('heart', 1), ('journal', 1), ('digital', 1), ('health', 1), ('melalui', 1), ('proses', 1), ('peerreview', 1), ('data', 1), ('83000', 1), ('menjalani', 1), ('elektrokardiogram', 1), ('15', 1), ('detik', 1), ('sebanding', 1), ('dilakukan', 1), ('menggunakan', 1), ('smartphone', 1), ('mengidentifikasi', 1), ('mengandung', 1), ('memprediksi', 1), ('sepuluh', 1), ('ke', 1), ('depan', 1), ('pendek', 1), ('dua', 1), ('kali', 1), ('lipat', 1), ('fibrilasi', 1), ('atrium', 1), ('penelitian', 1), ('berusia', 1), ('50', 1), ('hingga', 1), ('70', 1), ('penyakit', 1), ('kardiovaskular', 1), ('pada', 1), ('saat', 1), ('itu', 1), ('terjadi', 1), ('ketika', 1), ('pompa', 1), ('melemah', 1), ('diobati', 1), ('banyak', 1), ('kasus', 1)]\n",
            "[('yang', 12), ('dan', 10), ('saya', 9), ('jantung', 8), ('dengan', 7), ('dapat', 5), ('di', 5), ('gagal', 4), ('tidak', 4), ('ekg', 4), ('tahun', 3), ('untuk', 3), ('dalam', 3), ('dari', 3), ('risiko', 3), ('terkena', 3), ('orang', 3), ('rekaman', 3), ('iqbal', 2), ('pada', 2), ('itu', 2), ('juga', 2), ('saat', 2), ('waktu', 2), ('kuliah', 2), ('hari', 2), ('lebih', 2), ('riset', 2), ('para', 2), ('peneliti', 2), ('smartwatch', 2), ('irama', 2), ('teratur', 2), ('telah', 2), ('ini', 2), ('menganalisis', 2), ('selama', 2), ('detak', 2), ('ekstra', 2), ('atau', 2), ('memiliki', 2), ('hallo', 1), ('semuanya', 1), ('sebelumnya', 1), ('perkenalkan', 1), ('nama', 1), ('mohammad', 1), ('surya', 1), ('ramadhan', 1), ('biasanya', 1), ('kalian', 1), ('panggil', 1), ('sekarang', 1), ('sedang', 1), ('menempuh', 1), ('pendidikan', 1), ('jenjang', 1), ('strata1', 1), ('universitas', 1), ('trunojoyo', 1), ('madura', 1), ('angkatan', 1), ('2021', 1), ('program', 1), ('studi', 1), ('teknik', 1), ('informatika', 1), ('sangat', 1), ('tertarik', 1), ('teknologi', 1), ('bagaimana', 1), ('kita', 1), ('menggunakannya', 1), ('memecahkan', 1), ('masalah', 1), ('dunia', 1), ('nyata', 1), ('selain', 1), ('senang', 1), ('melakukan', 1), ('olahraga', 1), ('traveling', 1), ('senggang', 1), ('menghabiskan', 1), ('sebagian', 1), ('besar', 1), ('kampus', 1), ('mengikuti', 1), ('praktikum', 1), ('setiap', 1), ('bertemu', 1), ('temanteman', 1), ('sekelas', 1), ('dosen', 1), ('mengajar', 1), ('mata', 1), ('ambil', 1), ('berpartisipasi', 1), ('diskusi', 1), ('presentasi', 1), ('membantu', 1), ('memahami', 1), ('materi', 1), ('secara', 1), ('baik', 1), ('sebuah', 1), ('terkini', 1), ('dipimpin', 1), ('oleh', 1), ('university', 1), ('college', 1), ('london', 1), ('ucl', 1), ('menunjukkan', 1), ('bahwa', 1), ('wearable', 1), ('device', 1), ('seperti', 1), ('digunakan', 1), ('mendeteksi', 1), ('orangorang', 1), ('tinggi', 1), ('kemudian', 1), ('terbit', 1), ('the', 1), ('european', 1), ('heart', 1), ('journal', 1), ('digital', 1), ('health', 1), ('melalui', 1), ('proses', 1), ('peerreview', 1), ('data', 1), ('83000', 1), ('menjalani', 1), ('elektrokardiogram', 1), ('15', 1), ('detik', 1), ('sebanding', 1), ('dilakukan', 1), ('menggunakan', 1), ('smartphone', 1), ('mengidentifikasi', 1), ('mengandung', 1), ('memprediksi', 1), ('sepuluh', 1), ('ke', 1), ('depan', 1), ('pendek', 1), ('dua', 1), ('kali', 1), ('lipat', 1), ('fibrilasi', 1), ('atrium', 1), ('penelitian', 1), ('berusia', 1), ('50', 1), ('hingga', 1), ('70', 1), ('penyakit', 1), ('kardiovaskular', 1), ('terjadi', 1), ('ketika', 1), ('pompa', 1), ('melemah', 1), ('diobati', 1), ('banyak', 1), ('kasus', 1)]\n"
          ]
        }
      ]
    },
    {
      "cell_type": "markdown",
      "source": [
        "**b. Frequency Distribution Visualization with Matplotlib**\n",
        "\n",
        "*Untuk menggambarkan frekuensi kemunculan setiap tokens dapat menggunakan library matplotlib pada Python.*"
      ],
      "metadata": {
        "id": "uotZeRmhkZf5"
      }
    },
    {
      "cell_type": "code",
      "source": [
        "import matplotlib.pyplot as plt\n",
        "\n",
        "kemunculan1.plot(30,cumulative=False)\n",
        "plt.show()"
      ],
      "metadata": {
        "colab": {
          "base_uri": "https://localhost:8080/",
          "height": 521
        },
        "id": "aG0jbdg1kcVN",
        "outputId": "bd1b638f-6458-4d04-ec97-2403c983552b"
      },
      "execution_count": null,
      "outputs": [
        {
          "output_type": "display_data",
          "data": {
            "text/plain": [
              "<Figure size 640x480 with 1 Axes>"
            ],
            "image/png": "[encoded data removed]"
          },
          "metadata": {}
        }
      ]
    },
    {
      "cell_type": "code",
      "source": [
        "import matplotlib.pyplot as plt\n",
        "\n",
        "kemunculan2.plot(30,cumulative=False)\n",
        "plt.show()"
      ],
      "metadata": {
        "colab": {
          "base_uri": "https://localhost:8080/",
          "height": 527
        },
        "id": "1gew75mjki6Y",
        "outputId": "b9f62de0-31c3-449d-93f0-19a3920f7ddd"
      },
      "execution_count": null,
      "outputs": [
        {
          "output_type": "display_data",
          "data": {
            "text/plain": [
              "<Figure size 640x480 with 1 Axes>"
            ],
            "image/png": "[encoded data removed]"
          },
          "metadata": {}
        }
      ]
    },
    {
      "cell_type": "code",
      "source": [
        "import matplotlib.pyplot as plt\n",
        "\n",
        "kemunculan3.plot(30,cumulative=False)\n",
        "plt.show()"
      ],
      "metadata": {
        "colab": {
          "base_uri": "https://localhost:8080/",
          "height": 497
        },
        "id": "CHrNaJfdkqHI",
        "outputId": "3cd4bf13-546d-4d75-cc70-9b164934b434"
      },
      "execution_count": null,
      "outputs": [
        {
          "output_type": "display_data",
          "data": {
            "text/plain": [
              "<Figure size 640x480 with 1 Axes>"
            ],
            "image/png": "[encoded data removed]"
          },
          "metadata": {}
        }
      ]
    },
    {
      "cell_type": "markdown",
      "source": [
        "# **6. Lakukan proses stemming dari variable gabungan kemudian tampilkan atau print hasilnya.**"
      ],
      "metadata": {
        "id": "4OTxsy4Sk4Q0"
      }
    },
    {
      "cell_type": "markdown",
      "source": [
        "**Stemming Bahasa Indonesia using Sastrawi**"
      ],
      "metadata": {
        "id": "eMX_NLQlk9Lh"
      }
    },
    {
      "cell_type": "code",
      "source": [
        "from Sastrawi.Stemmer.StemmerFactory import StemmerFactory\n",
        "factory = StemmerFactory()\n",
        "stemmer = factory.create_stemmer()\n",
        " \n",
        "kalimat1 = Doc3_21_002\n",
        "\n",
        "hasil1 = stemmer.stem(kalimat1)\n",
        "\n",
        "print(hasil1)\n"
      ],
      "metadata": {
        "colab": {
          "base_uri": "https://localhost:8080/"
        },
        "id": "fpGGGqLplJrj",
        "outputId": "a555dd6c-d902-4d6d-cb6f-dac6b960dca8"
      },
      "execution_count": null,
      "outputs": [
        {
          "output_type": "stream",
          "name": "stdout",
          "text": [
            "hallo semua belum kenal nama saya mohammad iqbal surya ramadhan biasa dapat kalian panggil iqbal sekarang saya sedang tempuh didik jenjang strata-1 di universitas trunojoyo madura dengan tahun angkat 2021 pada program studi teknik informatika saya sangat tarik dengan teknologi dan bagaimana kita dapat guna untuk pecah masalah di dunia nyata selain itu saya juga senang laku olahraga dan traveling saat waktu senggang dan saya habis bagi besar waktu di kampus untuk ikut kuliah dan praktikum tiap hari saya temu dengan teman kelas dan dosen yang ajar mata kuliah yang saya ambil saya juga partisipasi dalam diskusi dan presentasi yang bantu saya paham materi cara lebih baik buah riset kini yang pimpin oleh para teliti dari university college london ucl tunjuk bahwa wearable device seperti smartwatch dapat guna untuk deteksi risiko orang yang lebih tinggi kena gagal jantung dan irama jantung tidak atur di kemudian hari riset yang terbit di the european heart journal - digital health dan telah lalu proses peer-review ini analis data dari 83 000 orang yang telah jalan elektrokardiogram ekg lama 15 detik yang banding dengan ekg yang laku dengan guna smartwatch dan smartphone dengan identifikasi rekam ekg yang kandung detak jantung ekstra para teliti dapat prediksi risiko kena gagal jantung atau irama jantung yang tidak atur lama puluh tahun ke depan orang dengan detak ekstra dalam rekam pendek milik risiko dua kali lipat kena gagal jantung atau fibrilasi atrium teliti ini analis rekam ekg dari orang usia 50 hingga 70 tahun yang tidak milik sakit kardiovaskular pada saat itu gagal jantung jadi ketika pompa jantung lemah dan tidak dapat obat dalam banyak kasus\n"
          ]
        }
      ]
    }
  ]
}