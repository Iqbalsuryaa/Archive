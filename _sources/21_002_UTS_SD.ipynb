{
  "nbformat": 4,
  "nbformat_minor": 0,
  "metadata": {
    "colab": {
      "provenance": []
    },
    "kernelspec": {
      "name": "python3",
      "display_name": "Python 3"
    },
    "language_info": {
      "name": "python"
    }
  },
  "cells": [
    {
      "cell_type": "markdown",
      "source": [
        "# UTS STRUKTUR DATA 2C - 2023"
      ],
      "metadata": {
        "id": "Cq2e99Oxujb7"
      }
    },
    {
      "cell_type": "markdown",
      "source": [
        "NAMA : MOHAMMAD IQBAL SURYA RAMADHAN\n",
        "\n",
        "NIM : 210411100002\n"
      ],
      "metadata": {
        "id": "nFfm97wTtAZ6"
      }
    },
    {
      "cell_type": "markdown",
      "source": [
        "# 4.Buatlah modifikasi algoritma Bubble Sort agar iterasi terhenti ketika tidak ada lagi data yang akan ditukar posisinya (semua data sudah berada di tempat yang tepat). No urut NIM 1-11."
      ],
      "metadata": {
        "id": "QWGQiMtMudp5"
      }
    },
    {
      "cell_type": "markdown",
      "source": [
        "**PERCOBAAN 1**"
      ],
      "metadata": {
        "id": "z7Z05hkI0l97"
      }
    },
    {
      "cell_type": "code",
      "source": [
        "def bubbleSort(listData):\n",
        "    temp=0\n",
        "    print('Data yang akan diurutkan secara ascending : ', listData)\n",
        "    for a in range(len(listData)-1,0,-1):\n",
        "        temp+=1 \n",
        "        print ('Iterasi ke-', temp,':')\n",
        "        for b in range(len(listData)-1, (len(listData)-a)-1, -1):\n",
        "            if listData[b]<listData[b-1]:\n",
        "                place=listData[b]\n",
        "                listData[b]=listData[b-1]\n",
        "                listData[b-1]=place\n",
        "            print(listData)\n",
        "    print('Data yang telah ter-urutkan secara ascending : ',listData)\n",
        "data=[21,125,15,18,45,300,10,1]\n",
        "print('--')\n",
        "bubbleSort(data)"
      ],
      "metadata": {
        "colab": {
          "base_uri": "https://localhost:8080/"
        },
        "id": "GxqSLoYIv4-I",
        "outputId": "f1bde47d-7cf6-419b-bf04-76e303387dca"
      },
      "execution_count": null,
      "outputs": [
        {
          "output_type": "stream",
          "name": "stdout",
          "text": [
            "--\n",
            "Data yang akan diurutkan secara ascending :  [21, 125, 15, 18, 45, 300, 10, 1]\n",
            "Iterasi ke- 1 :\n",
            "[21, 125, 15, 18, 45, 300, 1, 10]\n",
            "[21, 125, 15, 18, 45, 1, 300, 10]\n",
            "[21, 125, 15, 18, 1, 45, 300, 10]\n",
            "[21, 125, 15, 1, 18, 45, 300, 10]\n",
            "[21, 125, 1, 15, 18, 45, 300, 10]\n",
            "[21, 1, 125, 15, 18, 45, 300, 10]\n",
            "[1, 21, 125, 15, 18, 45, 300, 10]\n",
            "Iterasi ke- 2 :\n",
            "[1, 21, 125, 15, 18, 45, 10, 300]\n",
            "[1, 21, 125, 15, 18, 10, 45, 300]\n",
            "[1, 21, 125, 15, 10, 18, 45, 300]\n",
            "[1, 21, 125, 10, 15, 18, 45, 300]\n",
            "[1, 21, 10, 125, 15, 18, 45, 300]\n",
            "[1, 10, 21, 125, 15, 18, 45, 300]\n",
            "Iterasi ke- 3 :\n",
            "[1, 10, 21, 125, 15, 18, 45, 300]\n",
            "[1, 10, 21, 125, 15, 18, 45, 300]\n",
            "[1, 10, 21, 125, 15, 18, 45, 300]\n",
            "[1, 10, 21, 15, 125, 18, 45, 300]\n",
            "[1, 10, 15, 21, 125, 18, 45, 300]\n",
            "Iterasi ke- 4 :\n",
            "[1, 10, 15, 21, 125, 18, 45, 300]\n",
            "[1, 10, 15, 21, 125, 18, 45, 300]\n",
            "[1, 10, 15, 21, 18, 125, 45, 300]\n",
            "[1, 10, 15, 18, 21, 125, 45, 300]\n",
            "Iterasi ke- 5 :\n",
            "[1, 10, 15, 18, 21, 125, 45, 300]\n",
            "[1, 10, 15, 18, 21, 45, 125, 300]\n",
            "[1, 10, 15, 18, 21, 45, 125, 300]\n",
            "Iterasi ke- 6 :\n",
            "[1, 10, 15, 18, 21, 45, 125, 300]\n",
            "[1, 10, 15, 18, 21, 45, 125, 300]\n",
            "Iterasi ke- 7 :\n",
            "[1, 10, 15, 18, 21, 45, 125, 300]\n",
            "Data yang telah ter-urutkan secara ascending :  [1, 10, 15, 18, 21, 45, 125, 300]\n"
          ]
        }
      ]
    },
    {
      "cell_type": "markdown",
      "source": [
        "**PERCOBAAN 2**"
      ],
      "metadata": {
        "id": "s6kKnpnQ0xrj"
      }
    },
    {
      "cell_type": "code",
      "source": [
        "def bubbleSort(listData):\n",
        "    temp=0\n",
        "    print('Data yang akan diurutkan secara ascending : ', listData)\n",
        "    for a in range(len(listData)-1,0,-1):\n",
        "        temp+=1 \n",
        "        print ('Iterasi ke-', temp,':')\n",
        "        for b in range(len(listData)-1, (len(listData)-a)-1, -1):\n",
        "            if listData[b]<listData[b-1]:\n",
        "                place=listData[b]\n",
        "                listData[b]=listData[b-1]\n",
        "                listData[b-1]=place\n",
        "            print(listData)\n",
        "    print('Data yang telah ter-urutkan secara ascending : ',listData)\n",
        "data=[25,111,370,285,50,580,80,10]\n",
        "print('--')\n",
        "bubbleSort(data)"
      ],
      "metadata": {
        "colab": {
          "base_uri": "https://localhost:8080/"
        },
        "id": "x8nsJV-V0rnI",
        "outputId": "fb793f38-2058-417f-98f0-f5d1df0a80b2"
      },
      "execution_count": null,
      "outputs": [
        {
          "output_type": "stream",
          "name": "stdout",
          "text": [
            "--\n",
            "Data yang akan diurutkan secara ascending :  [25, 111, 370, 285, 50, 580, 80, 10]\n",
            "Iterasi ke- 1 :\n",
            "[25, 111, 370, 285, 50, 580, 10, 80]\n",
            "[25, 111, 370, 285, 50, 10, 580, 80]\n",
            "[25, 111, 370, 285, 10, 50, 580, 80]\n",
            "[25, 111, 370, 10, 285, 50, 580, 80]\n",
            "[25, 111, 10, 370, 285, 50, 580, 80]\n",
            "[25, 10, 111, 370, 285, 50, 580, 80]\n",
            "[10, 25, 111, 370, 285, 50, 580, 80]\n",
            "Iterasi ke- 2 :\n",
            "[10, 25, 111, 370, 285, 50, 80, 580]\n",
            "[10, 25, 111, 370, 285, 50, 80, 580]\n",
            "[10, 25, 111, 370, 50, 285, 80, 580]\n",
            "[10, 25, 111, 50, 370, 285, 80, 580]\n",
            "[10, 25, 50, 111, 370, 285, 80, 580]\n",
            "[10, 25, 50, 111, 370, 285, 80, 580]\n",
            "Iterasi ke- 3 :\n",
            "[10, 25, 50, 111, 370, 285, 80, 580]\n",
            "[10, 25, 50, 111, 370, 80, 285, 580]\n",
            "[10, 25, 50, 111, 80, 370, 285, 580]\n",
            "[10, 25, 50, 80, 111, 370, 285, 580]\n",
            "[10, 25, 50, 80, 111, 370, 285, 580]\n",
            "Iterasi ke- 4 :\n",
            "[10, 25, 50, 80, 111, 370, 285, 580]\n",
            "[10, 25, 50, 80, 111, 285, 370, 580]\n",
            "[10, 25, 50, 80, 111, 285, 370, 580]\n",
            "[10, 25, 50, 80, 111, 285, 370, 580]\n",
            "Iterasi ke- 5 :\n",
            "[10, 25, 50, 80, 111, 285, 370, 580]\n",
            "[10, 25, 50, 80, 111, 285, 370, 580]\n",
            "[10, 25, 50, 80, 111, 285, 370, 580]\n",
            "Iterasi ke- 6 :\n",
            "[10, 25, 50, 80, 111, 285, 370, 580]\n",
            "[10, 25, 50, 80, 111, 285, 370, 580]\n",
            "Iterasi ke- 7 :\n",
            "[10, 25, 50, 80, 111, 285, 370, 580]\n",
            "Data yang telah ter-urutkan secara ascending :  [10, 25, 50, 80, 111, 285, 370, 580]\n"
          ]
        }
      ]
    },
    {
      "cell_type": "markdown",
      "source": [
        "**PERCOBAAN 3**"
      ],
      "metadata": {
        "id": "XU-LvTqE01YC"
      }
    },
    {
      "cell_type": "code",
      "source": [
        "def bubbleSort(listData):\n",
        "    temp=0\n",
        "    print('Data yang akan diurutkan secara ascending : ', listData)\n",
        "    for a in range(len(listData)-1,0,-1):\n",
        "        temp+=1 \n",
        "        print ('Iterasi ke-', temp,':')\n",
        "        for b in range(len(listData)-1, (len(listData)-a)-1, -1):\n",
        "            if listData[b]<listData[b-1]:\n",
        "                place=listData[b]\n",
        "                listData[b]=listData[b-1]\n",
        "                listData[b-1]=place\n",
        "            print(listData)\n",
        "    print('Data yang telah ter-urutkan secara ascending : ',listData)\n",
        "data=[23,134,321,252,50,565,78,1]\n",
        "print('--')\n",
        "bubbleSort(data)"
      ],
      "metadata": {
        "colab": {
          "base_uri": "https://localhost:8080/"
        },
        "id": "oeH71pMS1ALh",
        "outputId": "a2e40404-961d-4755-fa97-b3e59fc8958b"
      },
      "execution_count": null,
      "outputs": [
        {
          "output_type": "stream",
          "name": "stdout",
          "text": [
            "--\n",
            "Data yang akan diurutkan secara ascending :  [23, 134, 321, 252, 50, 565, 78, 1]\n",
            "Iterasi ke- 1 :\n",
            "[23, 134, 321, 252, 50, 565, 1, 78]\n",
            "[23, 134, 321, 252, 50, 1, 565, 78]\n",
            "[23, 134, 321, 252, 1, 50, 565, 78]\n",
            "[23, 134, 321, 1, 252, 50, 565, 78]\n",
            "[23, 134, 1, 321, 252, 50, 565, 78]\n",
            "[23, 1, 134, 321, 252, 50, 565, 78]\n",
            "[1, 23, 134, 321, 252, 50, 565, 78]\n",
            "Iterasi ke- 2 :\n",
            "[1, 23, 134, 321, 252, 50, 78, 565]\n",
            "[1, 23, 134, 321, 252, 50, 78, 565]\n",
            "[1, 23, 134, 321, 50, 252, 78, 565]\n",
            "[1, 23, 134, 50, 321, 252, 78, 565]\n",
            "[1, 23, 50, 134, 321, 252, 78, 565]\n",
            "[1, 23, 50, 134, 321, 252, 78, 565]\n",
            "Iterasi ke- 3 :\n",
            "[1, 23, 50, 134, 321, 252, 78, 565]\n",
            "[1, 23, 50, 134, 321, 78, 252, 565]\n",
            "[1, 23, 50, 134, 78, 321, 252, 565]\n",
            "[1, 23, 50, 78, 134, 321, 252, 565]\n",
            "[1, 23, 50, 78, 134, 321, 252, 565]\n",
            "Iterasi ke- 4 :\n",
            "[1, 23, 50, 78, 134, 321, 252, 565]\n",
            "[1, 23, 50, 78, 134, 252, 321, 565]\n",
            "[1, 23, 50, 78, 134, 252, 321, 565]\n",
            "[1, 23, 50, 78, 134, 252, 321, 565]\n",
            "Iterasi ke- 5 :\n",
            "[1, 23, 50, 78, 134, 252, 321, 565]\n",
            "[1, 23, 50, 78, 134, 252, 321, 565]\n",
            "[1, 23, 50, 78, 134, 252, 321, 565]\n",
            "Iterasi ke- 6 :\n",
            "[1, 23, 50, 78, 134, 252, 321, 565]\n",
            "[1, 23, 50, 78, 134, 252, 321, 565]\n",
            "Iterasi ke- 7 :\n",
            "[1, 23, 50, 78, 134, 252, 321, 565]\n",
            "Data yang telah ter-urutkan secara ascending :  [1, 23, 50, 78, 134, 252, 321, 565]\n"
          ]
        }
      ]
    }
  ]
}