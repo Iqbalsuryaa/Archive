{
  "nbformat": 4,
  "nbformat_minor": 0,
  "metadata": {
    "colab": {
      "provenance": []
    },
    "kernelspec": {
      "name": "python3",
      "display_name": "Python 3"
    },
    "language_info": {
      "name": "python"
    }
  },
  "cells": [
    {
      "cell_type": "markdown",
      "source": [
        "NAMA : Mohammad Iqbal Surya Ramadhan\n",
        "\n",
        "---\n",
        "\n",
        "\n",
        "NIM  : 210411100002\n",
        "\n",
        "---\n",
        "\n",
        "\n",
        "Strukdat C\n",
        "\n",
        "---\n",
        "\n",
        "\n"
      ],
      "metadata": {
        "id": "JowRn8vjC1ib"
      }
    },
    {
      "cell_type": "markdown",
      "source": [
        "# PRAKTIKUM STRUKTUR DATA : MODUL 2 - Stack & Queue"
      ],
      "metadata": {
        "id": "IKUOD0oB8uZf"
      }
    },
    {
      "cell_type": "markdown",
      "source": [
        "NAMA : Mohammad Iqbal Surya Ramadhan\n",
        "\n",
        "---\n",
        "\n",
        "\n",
        "NIM  : 210411100002\n",
        "\n",
        "---\n",
        "\n",
        "\n",
        "Strukdat C\n",
        "\n",
        "---\n",
        "\n",
        "\n"
      ],
      "metadata": {
        "id": "X5UA31p59sf4"
      }
    },
    {
      "cell_type": "markdown",
      "source": [
        "# 1. Stack"
      ],
      "metadata": {
        "id": "LP6PaNn-Fj2_"
      }
    },
    {
      "cell_type": "markdown",
      "source": [
        "**Buatlah suatu fungsi untuk menghitung operasi aritmatika infix (dengan inputan berupa string operasi aritmatika infix)**"
      ],
      "metadata": {
        "id": "DKELMHvEFm9L"
      }
    },
    {
      "cell_type": "code",
      "source": [
        "def parenthesis(expression):\n",
        "    stack = []\n",
        "    for char in expression:\n",
        "        if char in ['(', '{', '[']:\n",
        "            stack.append(char)\n",
        "        elif char in [')', '}', ']']:\n",
        "            if not stack:\n",
        "                return False, \"Jumlah kurung tutup lebih banyak\"\n",
        "            current_char = stack.pop()\n",
        "            if current_char == '(' and char != ')':\n",
        "                return False, \"Kurung buka dan kurung tutup tidak cocok\"\n",
        "            if current_char == '{' and char != '}':\n",
        "                return False, \"Kurung buka dan kurung tutup tidak cocok\"\n",
        "            if current_char == '[' and char != ']':\n",
        "                return False, \"Kurung buka dan kurung tutup tidak cocok\"\n",
        "    if stack:\n",
        "        return False, \"Jumlah kurung buka lebih banyak\"\n",
        "    return True, \"Kurung sudah benar\"\n",
        "\n",
        "\n",
        "def infix_to_postfix(expression):\n",
        "    precedence = {'+': 1, '-': 1, '*': 2, '/': 2, '^': 3, '(': 0, ')': 0, '{': 0, '}': 0, '[': 0, ']': 0}\n",
        "    stack = []\n",
        "    postfix = ''\n",
        "    for char in expression:\n",
        "        if char.isalnum():\n",
        "            postfix += char\n",
        "        elif char == '(' or char == '{' or char == '[':\n",
        "            stack.append(char)\n",
        "        elif char == ')' or char == '}' or char == ']':\n",
        "            while stack and stack[-1] not in ['(', '{', '[']:\n",
        "                postfix += stack.pop()\n",
        "            stack.pop()\n",
        "        else:\n",
        "            while stack and stack[-1] not in ['(', '{', '['] and precedence[char] <= precedence.get(stack[-1], 0):\n",
        "                postfix += stack.pop()\n",
        "            stack.append(char)\n",
        "    while stack:\n",
        "        postfix += stack.pop()\n",
        "    print(\"Postfix expression:\", postfix)\n",
        "    print(\"infix expression:\", expression)\n",
        "    return postfix\n",
        "\n",
        "\n",
        "\n",
        "\n",
        "def evaluasi_postfix(expression):\n",
        "    stack = []\n",
        "    for char in expression:\n",
        "        if char.isnumeric():\n",
        "            stack.append(int(char))\n",
        "        else:\n",
        "            val1 = stack.pop()\n",
        "            val2 = stack.pop()\n",
        "            if char == '+':\n",
        "                stack.append(val2 + val1)\n",
        "            elif char == '-':\n",
        "                stack.append(val2 - val1)\n",
        "            elif char == '*':\n",
        "                stack.append(val2 * val1)\n",
        "            elif char == '/':\n",
        "                stack.append(val2 / val1)\n",
        "            elif char == '^':\n",
        "                stack.append(val2 ** val1)\n",
        "    return stack.pop()\n",
        "\n",
        "\n",
        "def menghitung_ekspresi(expression):\n",
        "    is_valid, message = parenthesis(expression)\n",
        "    if not is_valid:\n",
        "        return message\n",
        "    postfix_expression = infix_to_postfix(expression)\n",
        "    result = evaluasi_postfix(postfix_expression)\n",
        "    return result\n",
        "\n",
        "def main():\n",
        "    expression = input(\"Masukkan operasi aritmatika : \")\n",
        "    result = menghitung_ekspresi(expression)\n",
        "    \n",
        "\n",
        "    if isinstance(result, str):\n",
        "        print(result)\n",
        "    else:\n",
        "      print(\"Hasil operasi aritmatika adalah:\", result)\n",
        "    \n",
        "\n",
        "if __name__ == \"__main__\":\n",
        "    main()"
      ],
      "metadata": {
        "colab": {
          "base_uri": "https://localhost:8080/"
        },
        "id": "1pHNQZBUFw7k",
        "outputId": "41134087-7e2e-4e5b-e710-d35ab7d5f06f"
      },
      "execution_count": null,
      "outputs": [
        {
          "output_type": "stream",
          "name": "stdout",
          "text": [
            "Masukkan operasi aritmatika : {(2-5)/(4+1)\n",
            "Jumlah kurung buka lebih banyak\n"
          ]
        }
      ]
    },
    {
      "cell_type": "code",
      "source": [
        "if __name__ == \"__main__\":\n",
        "    main()"
      ],
      "metadata": {
        "colab": {
          "base_uri": "https://localhost:8080/"
        },
        "id": "neHU2fgPnhG0",
        "outputId": "13185724-da47-4e47-d93d-ff05ccd79cf1"
      },
      "execution_count": null,
      "outputs": [
        {
          "output_type": "stream",
          "name": "stdout",
          "text": [
            "Masukkan operasi aritmatika : 9*(7-4)]\n",
            "Jumlah kurung tutup lebih banyak\n"
          ]
        }
      ]
    },
    {
      "cell_type": "code",
      "source": [
        "if __name__ == \"__main__\":\n",
        "    main()"
      ],
      "metadata": {
        "colab": {
          "base_uri": "https://localhost:8080/"
        },
        "id": "DDpn9Q1Fntu7",
        "outputId": "2f17ccb7-5a88-43a5-a1cc-9da8a312c354"
      },
      "execution_count": null,
      "outputs": [
        {
          "output_type": "stream",
          "name": "stdout",
          "text": [
            "Masukkan operasi aritmatika : (4-2)*{3*(7-3)}\n",
            "Postfix expression: 42-373-**\n",
            "infix expression: (4-2)*{3*(7-3)}\n",
            "Hasil operasi aritmatika adalah: 24\n"
          ]
        }
      ]
    },
    {
      "cell_type": "code",
      "source": [
        "if __name__ == \"__main__\":\n",
        "    main()"
      ],
      "metadata": {
        "colab": {
          "base_uri": "https://localhost:8080/"
        },
        "id": "l2myQThTn4to",
        "outputId": "58f0212a-b512-4aed-cb3d-2d43d59a0678"
      },
      "execution_count": null,
      "outputs": [
        {
          "output_type": "stream",
          "name": "stdout",
          "text": [
            "Masukkan operasi aritmatika : {5*(4/[7-5])}\n",
            "Postfix expression: 5475-/*\n",
            "infix expression: {5*(4/[7-5])}\n",
            "Hasil operasi aritmatika adalah: 10.0\n"
          ]
        }
      ]
    },
    {
      "cell_type": "markdown",
      "source": [
        "# 2. Queue"
      ],
      "metadata": {
        "id": "p8GlOVYBFzxk"
      }
    },
    {
      "cell_type": "markdown",
      "source": [
        "**Buatlah suatu modul dengan nama queueProgram, dengan fungsi-fungsi utama yang terdapat dalam modul adalah:**\n",
        "-\tcreateQueue ( )\t: inisialisasi stack kosong\n",
        "-\tenqueue (data),\t: penambahan data baru pada queue\n",
        "-\tdequeue (),\t: penghapusan data\n",
        "-\tisEmpty(),\t: pengecekan apakah queue dalam keadaan kosong\n",
        "-\tsize (),\t: informasi jumlah data yang terdapat pada queue"
      ],
      "metadata": {
        "id": "Ek0SHPPIF4ul"
      }
    },
    {
      "cell_type": "code",
      "source": [
        "def createQueue():\n",
        "  q = []\n",
        "  return (q)\n",
        "\n",
        "#fungsi untuk menambah data baru pada queue\n",
        "def enqueue(q,data):\n",
        "  q.insert(0,data)\n",
        "  return(q)\n",
        "\n",
        "#fungsi untuk menghapus data pada queue\n",
        "def dequeue(q):\n",
        "  data = q.pop()\n",
        "  return(data)\n",
        "\n",
        "#fungsi untuk mengecek apakah queue kosong\n",
        "def isEmpty(q):\n",
        "  return (q==[])\n",
        "\n",
        "#fungsi untuk mengetahui jumlah data pada queue\n",
        "def size(q):\n",
        "  return (len(q))"
      ],
      "metadata": {
        "id": "3QQFF13zGC__"
      },
      "execution_count": null,
      "outputs": []
    },
    {
      "cell_type": "markdown",
      "source": [
        "**Buatlah ilustrasi penjadwalan CPU tersebut dengan menggunakan modul queueProgram yang telah dibuat sebelumnya, dengan ketentuan sebagai berikut :**\n",
        "1.\tInput berupa jumlah task atau proses yang akan diproses pada CPU (petunjuk : gunakan list 2D)\n",
        "2.\tNama proses, beserta atribut waktu yang dibutuhkan masing-masing proses untuk menggunakan CPU\n",
        "3.\tWaktu proses CPU"
      ],
      "metadata": {
        "id": "giE3T6D7GGc_"
      }
    },
    {
      "cell_type": "code",
      "source": [
        "#Proses Penjadwalan CPU untuk 10 Proses\n",
        "\n",
        "schedul_ing=createQueue()\n",
        "jumlah=int(input(\"Jumlah proses yang akan dijadwal di CPU = \"))\n",
        "count=0\n",
        "for  j in range(jumlah):\n",
        "  kolom=[]\n",
        "  for k in range(1):\n",
        "    nama=str(input(f\"Nama Proses Ke {j}: \"))\n",
        "    nilai=int(input(\"Masukkan Nilai :\"))\n",
        "    enqueue(kolom,nama)\n",
        "    enqueue(kolom,nilai)\n",
        "    enqueue(kolom,dequeue(kolom))\n",
        "  enqueue(schedul_ing,kolom)  \n",
        "\n",
        "print(\"Antrian Proses : \", schedul_ing)\n",
        "\n",
        "CPU=int(input(\"Waktu  Proses : \"))\n",
        "while not(isEmpty(schedul_ing)) :\n",
        "  ins=dequeue(schedul_ing)\n",
        "  ins[1]=ins[1]-CPU\n",
        "  if ins[1]>=1:\n",
        "    enqueue(schedul_ing,ins)\n",
        "    count+=1\n",
        "    print(f\"Iterasi ke-{count}\")\n",
        "    print(f\"\\tProses {ins[0]} Sedang Diproses, dan Sisa Waktu Proses {ins[0]} = {ins[1]}\")\n",
        "  else :\n",
        "    count+=1\n",
        "    print(f\"Iterasi Ke - {count}\")\n",
        "    print(f\"\\tProses {ins[0]} Telah Selesai Diproses\")\n",
        "  print(f\"\\tData Proes Yang Tersisa{schedul_ing}\")"
      ],
      "metadata": {
        "colab": {
          "base_uri": "https://localhost:8080/"
        },
        "id": "fMwgxDPgGMTH",
        "outputId": "04daa366-f10a-4edb-9fc2-7083dfcacd59"
      },
      "execution_count": null,
      "outputs": [
        {
          "output_type": "stream",
          "name": "stdout",
          "text": [
            "Jumlah proses yang akan dijadwal di CPU = 10\n",
            "Nama Proses Ke 0: A\n",
            "Masukkan Nilai :16\n",
            "Nama Proses Ke 1: B\n",
            "Masukkan Nilai :5\n",
            "Nama Proses Ke 2: C\n",
            "Masukkan Nilai :8\n",
            "Nama Proses Ke 3: D\n",
            "Masukkan Nilai :2\n",
            "Nama Proses Ke 4: E\n",
            "Masukkan Nilai :1\n",
            "Nama Proses Ke 5: F\n",
            "Masukkan Nilai :9\n",
            "Nama Proses Ke 6: G\n",
            "Masukkan Nilai :3\n",
            "Nama Proses Ke 7: H\n",
            "Masukkan Nilai :9\n",
            "Nama Proses Ke 8: I\n",
            "Masukkan Nilai :4\n",
            "Nama Proses Ke 9: J\n",
            "Masukkan Nilai :11\n",
            "Antrian Proses :  [['J', 11], ['I', 4], ['H', 9], ['G', 3], ['F', 9], ['E', 1], ['D', 2], ['C', 8], ['B', 5], ['A', 16]]\n",
            "Waktu  Proses : 4\n",
            "Iterasi ke-1\n",
            "\tProses A Sedang Diproses, dan Sisa Waktu Proses A = 12\n",
            "\tData Proes Yang Tersisa[['A', 12], ['J', 11], ['I', 4], ['H', 9], ['G', 3], ['F', 9], ['E', 1], ['D', 2], ['C', 8], ['B', 5]]\n",
            "Iterasi ke-2\n",
            "\tProses B Sedang Diproses, dan Sisa Waktu Proses B = 1\n",
            "\tData Proes Yang Tersisa[['B', 1], ['A', 12], ['J', 11], ['I', 4], ['H', 9], ['G', 3], ['F', 9], ['E', 1], ['D', 2], ['C', 8]]\n",
            "Iterasi ke-3\n",
            "\tProses C Sedang Diproses, dan Sisa Waktu Proses C = 4\n",
            "\tData Proes Yang Tersisa[['C', 4], ['B', 1], ['A', 12], ['J', 11], ['I', 4], ['H', 9], ['G', 3], ['F', 9], ['E', 1], ['D', 2]]\n",
            "Iterasi Ke - 4\n",
            "\tProses D Telah Selesai Diproses\n",
            "\tData Proes Yang Tersisa[['C', 4], ['B', 1], ['A', 12], ['J', 11], ['I', 4], ['H', 9], ['G', 3], ['F', 9], ['E', 1]]\n",
            "Iterasi Ke - 5\n",
            "\tProses E Telah Selesai Diproses\n",
            "\tData Proes Yang Tersisa[['C', 4], ['B', 1], ['A', 12], ['J', 11], ['I', 4], ['H', 9], ['G', 3], ['F', 9]]\n",
            "Iterasi ke-6\n",
            "\tProses F Sedang Diproses, dan Sisa Waktu Proses F = 5\n",
            "\tData Proes Yang Tersisa[['F', 5], ['C', 4], ['B', 1], ['A', 12], ['J', 11], ['I', 4], ['H', 9], ['G', 3]]\n",
            "Iterasi Ke - 7\n",
            "\tProses G Telah Selesai Diproses\n",
            "\tData Proes Yang Tersisa[['F', 5], ['C', 4], ['B', 1], ['A', 12], ['J', 11], ['I', 4], ['H', 9]]\n",
            "Iterasi ke-8\n",
            "\tProses H Sedang Diproses, dan Sisa Waktu Proses H = 5\n",
            "\tData Proes Yang Tersisa[['H', 5], ['F', 5], ['C', 4], ['B', 1], ['A', 12], ['J', 11], ['I', 4]]\n",
            "Iterasi Ke - 9\n",
            "\tProses I Telah Selesai Diproses\n",
            "\tData Proes Yang Tersisa[['H', 5], ['F', 5], ['C', 4], ['B', 1], ['A', 12], ['J', 11]]\n",
            "Iterasi ke-10\n",
            "\tProses J Sedang Diproses, dan Sisa Waktu Proses J = 7\n",
            "\tData Proes Yang Tersisa[['J', 7], ['H', 5], ['F', 5], ['C', 4], ['B', 1], ['A', 12]]\n",
            "Iterasi ke-11\n",
            "\tProses A Sedang Diproses, dan Sisa Waktu Proses A = 8\n",
            "\tData Proes Yang Tersisa[['A', 8], ['J', 7], ['H', 5], ['F', 5], ['C', 4], ['B', 1]]\n",
            "Iterasi Ke - 12\n",
            "\tProses B Telah Selesai Diproses\n",
            "\tData Proes Yang Tersisa[['A', 8], ['J', 7], ['H', 5], ['F', 5], ['C', 4]]\n",
            "Iterasi Ke - 13\n",
            "\tProses C Telah Selesai Diproses\n",
            "\tData Proes Yang Tersisa[['A', 8], ['J', 7], ['H', 5], ['F', 5]]\n",
            "Iterasi ke-14\n",
            "\tProses F Sedang Diproses, dan Sisa Waktu Proses F = 1\n",
            "\tData Proes Yang Tersisa[['F', 1], ['A', 8], ['J', 7], ['H', 5]]\n",
            "Iterasi ke-15\n",
            "\tProses H Sedang Diproses, dan Sisa Waktu Proses H = 1\n",
            "\tData Proes Yang Tersisa[['H', 1], ['F', 1], ['A', 8], ['J', 7]]\n",
            "Iterasi ke-16\n",
            "\tProses J Sedang Diproses, dan Sisa Waktu Proses J = 3\n",
            "\tData Proes Yang Tersisa[['J', 3], ['H', 1], ['F', 1], ['A', 8]]\n",
            "Iterasi ke-17\n",
            "\tProses A Sedang Diproses, dan Sisa Waktu Proses A = 4\n",
            "\tData Proes Yang Tersisa[['A', 4], ['J', 3], ['H', 1], ['F', 1]]\n",
            "Iterasi Ke - 18\n",
            "\tProses F Telah Selesai Diproses\n",
            "\tData Proes Yang Tersisa[['A', 4], ['J', 3], ['H', 1]]\n",
            "Iterasi Ke - 19\n",
            "\tProses H Telah Selesai Diproses\n",
            "\tData Proes Yang Tersisa[['A', 4], ['J', 3]]\n",
            "Iterasi Ke - 20\n",
            "\tProses J Telah Selesai Diproses\n",
            "\tData Proes Yang Tersisa[['A', 4]]\n",
            "Iterasi Ke - 21\n",
            "\tProses A Telah Selesai Diproses\n",
            "\tData Proes Yang Tersisa[]\n"
          ]
        }
      ]
    }
  ]
}