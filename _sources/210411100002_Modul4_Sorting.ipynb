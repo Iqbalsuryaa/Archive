{
  "nbformat": 4,
  "nbformat_minor": 0,
  "metadata": {
    "colab": {
      "provenance": []
    },
    "kernelspec": {
      "name": "python3",
      "display_name": "Python 3"
    },
    "language_info": {
      "name": "python"
    }
  },
  "cells": [
    {
      "cell_type": "markdown",
      "source": [
        "# PRAKTIKUM STRUKTUR DATA : Modul 4 – Sorting"
      ],
      "metadata": {
        "id": "HYiIjALy9epD"
      }
    },
    {
      "cell_type": "markdown",
      "source": [
        "NAMA : Mohammad Iqbal Surya Ramadhan\n",
        "\n",
        "---\n",
        "\n",
        "\n",
        "NIM  : 210411100002\n",
        "\n",
        "---\n",
        "\n",
        "\n",
        "Strukdat C\n",
        "\n",
        "---\n",
        "\n",
        "\n"
      ],
      "metadata": {
        "id": "2HYHjS279x2X"
      }
    },
    {
      "cell_type": "markdown",
      "source": [
        "**1. Buat Fungsi untuk mengurutkan sejumlah data dengan algoritma sebagai berikut:**\n",
        "**pengurutan Ascending antara indeks genap dengan index ganjil untuk semua data**\n",
        "**a. lakukan pengurutan antara indeks ganjil dengan genap untuk semua data**\n",
        "**b. lakukan tahapan a dan b secara bergantian terus menerus sampai semua sudah terurut**\n",
        "\n",
        "\n",
        "\n"
      ],
      "metadata": {
        "id": "DS-AMKOo-1zm"
      }
    },
    {
      "cell_type": "code",
      "source": [
        "def GanjilGenap(data):\n",
        "    for a in range(len(data)):\n",
        "        if a % 2 == 0:\n",
        "            for i in range(0, len(data)-1, 2):\n",
        "                if data[i] > data[i+1]:\n",
        "                    data[i], data[i+1] = data[i+1], data[i]\n",
        "            print(\"Sorting Bilangan Ganjil-Genap :\", data)\n",
        "        else:\n",
        "            for i in range(1, len(data)-1, 2):\n",
        "                if data[i] > data[i+1]:\n",
        "                    data[i], data[i+1] = data[i+1], data[i]\n",
        "            print(\"Sorting Bilangan Ganjil-Genap : \", data)\n",
        "    return data\n"
      ],
      "metadata": {
        "id": "vWl_Wbo3-2YH"
      },
      "execution_count": null,
      "outputs": []
    },
    {
      "cell_type": "code",
      "source": [
        "data = [13, 12, 10, 8, 7, 5, 11, 2]\n",
        "print(\"Data Yang Sudah Urut Bilangan Ganjil Genap : \", GanjilGenap(data))\n"
      ],
      "metadata": {
        "colab": {
          "base_uri": "https://localhost:8080/"
        },
        "id": "ggZ-XA7n-5yG",
        "outputId": "c17f1263-4972-4da2-bdbf-63c851fba36c"
      },
      "execution_count": null,
      "outputs": [
        {
          "output_type": "stream",
          "name": "stdout",
          "text": [
            "Sorting Bilangan Ganjil-Genap : [12, 13, 8, 10, 5, 7, 2, 11]\n",
            "Sorting Bilangan Ganjil-Genap :  [12, 8, 13, 5, 10, 2, 7, 11]\n",
            "Sorting Bilangan Ganjil-Genap : [8, 12, 5, 13, 2, 10, 7, 11]\n",
            "Sorting Bilangan Ganjil-Genap :  [8, 5, 12, 2, 13, 7, 10, 11]\n",
            "Sorting Bilangan Ganjil-Genap : [5, 8, 2, 12, 7, 13, 10, 11]\n",
            "Sorting Bilangan Ganjil-Genap :  [5, 2, 8, 7, 12, 10, 13, 11]\n",
            "Sorting Bilangan Ganjil-Genap : [2, 5, 7, 8, 10, 12, 11, 13]\n",
            "Sorting Bilangan Ganjil-Genap :  [2, 5, 7, 8, 10, 11, 12, 13]\n",
            "Data Yang Sudah Urut Bilangan Ganjil Genap :  [2, 5, 7, 8, 10, 11, 12, 13]\n"
          ]
        }
      ]
    },
    {
      "cell_type": "markdown",
      "source": [
        "**Penjelasan :**\n",
        "\n",
        "Pertama-tama, fungsi ini melakukan iterasi melalui setiap indeks dalam list dengan menggunakan perintah for a in range(len(data)). Selama iterasi, fungsi memeriksa apakah indeks saat ini merupakan indeks genap atau ganjil dengan menggunakan perintah if a % 2 == 0:. Jika indeks tersebut genap, fungsi akan mengurutkan elemen dengan indeks genap secara menaik menggunakan algoritma bubble sort dengan menggunakan perintah for i in range(0, len(data)-1, 2) dan menukar elemen yang tidak terurut. Setelah selesai mengurutkan, fungsi akan mencetak pesan \"Sorting Bilangan Ganjil-Genap :\" dan list yang telah diurutkan.\n",
        "\n",
        "Jika indeks saat ini adalah ganjil, fungsi akan mengurutkan elemen dengan indeks ganjil secara menurun menggunakan algoritma bubble sort dengan menggunakan perintah for i in range(1, len(data)-1, 2) dan menukar elemen yang tidak terurut. Setelah selesai mengurutkan, fungsi akan mencetak pesan \"Sorting Bilangan Ganjil-Genap :\" dan list yang telah diurutkan.\n",
        "\n",
        "Setelah selesai melakukan iterasi, fungsi akan mengembalikan list yang telah diurutkan menggunakan perintah return data.\n",
        "\n",
        "Pada kode di bawah fungsi GanjilGenap tersebut, terdapat pemanggilan fungsi tersebut untuk mengurutkan list data yang diberikan, dan kemudian mencetak pesan \"Data Yang Sudah Urut Bilangan Ganjil Genap :\" beserta list yang telah diurutkan."
      ],
      "metadata": {
        "id": "WK6WbwpI8Nol"
      }
    },
    {
      "cell_type": "markdown",
      "source": [
        "**2. Dengan menggunakan algoritma Selection Sort, buatlah fungsi untuk mengurutkan data**\n",
        "**secara Ascending, sekali iterasi luar, lakukan dua kali proses yaitu cari nilai maks dan letakkan**\n",
        "**di indeks awal serta cari nilai indeks min & letakkan di indeks akhir.**"
      ],
      "metadata": {
        "id": "SnjZRtUi09N5"
      }
    },
    {
      "cell_type": "code",
      "source": [
        "def modifiedSelectionSort(data):\n",
        "    for angka in range(len(data)//2):\n",
        "        IndexMIN = angka\n",
        "        IndexMAX = angka\n",
        "        temp = angka+1\n",
        "\n",
        "        print(\"Iterasi Ke-\", (angka+1))\n",
        "        for i in range(angka, len(data)):\n",
        "            if data[IndexMAX] > data[i]:\n",
        "                IndexMAX = i\n",
        "        data[angka], data[IndexMAX] = data[IndexMAX], data[angka]\n",
        "        print(\"Urut Data Minimal \\t:\", (data))\n",
        "        for a in range(len(data)-temp, angka, -1):\n",
        "            if data[IndexMIN] < data[a]:\n",
        "                IndexMIN = a\n",
        "        data[len(data)-temp], data[IndexMIN] = data[IndexMIN], data[len(data)-temp]\n",
        "        print(\"Urut Data Maksimal \\t:\", (data))\n",
        "    return data\n"
      ],
      "metadata": {
        "id": "X4NQLCJv5q9t"
      },
      "execution_count": null,
      "outputs": []
    },
    {
      "cell_type": "code",
      "source": [
        "print(\"Algoritma Modifikasi Selection Sort\")\n",
        "print(\"Data awal = [10, 2, 5, 8, 1, 20, 7, 12, 4] \")\n",
        "\n",
        "data =[10, 2, 5, 8, 1, 20, 7, 12, 4]\n",
        "print(\"Data Yang Sudah Urut \\t: \", modifiedSelectionSort(data))\n",
        "\n"
      ],
      "metadata": {
        "colab": {
          "base_uri": "https://localhost:8080/"
        },
        "id": "65Gi26YY2Hdj",
        "outputId": "4732fc11-939a-4ff8-d91f-24a85ed57c4e"
      },
      "execution_count": null,
      "outputs": [
        {
          "output_type": "stream",
          "name": "stdout",
          "text": [
            "Algoritma Modifikasi Selection Sort\n",
            "Data awal = [10, 2, 5, 8, 1, 20, 7, 12, 4] \n",
            "Iterasi Ke- 1\n",
            "Urut Data Minimal \t: [1, 2, 5, 8, 10, 20, 7, 12, 4]\n",
            "Urut Data Maksimal \t: [1, 2, 5, 8, 10, 4, 7, 12, 20]\n",
            "Iterasi Ke- 2\n",
            "Urut Data Minimal \t: [1, 2, 5, 8, 10, 4, 7, 12, 20]\n",
            "Urut Data Maksimal \t: [1, 2, 5, 8, 10, 4, 7, 12, 20]\n",
            "Iterasi Ke- 3\n",
            "Urut Data Minimal \t: [1, 2, 4, 8, 10, 5, 7, 12, 20]\n",
            "Urut Data Maksimal \t: [1, 2, 4, 8, 7, 5, 10, 12, 20]\n",
            "Iterasi Ke- 4\n",
            "Urut Data Minimal \t: [1, 2, 4, 5, 7, 8, 10, 12, 20]\n",
            "Urut Data Maksimal \t: [1, 2, 4, 5, 7, 8, 10, 12, 20]\n",
            "Data Yang Sudah Urut \t:  [1, 2, 4, 5, 7, 8, 10, 12, 20]\n"
          ]
        }
      ]
    },
    {
      "cell_type": "markdown",
      "source": [
        "**Penjelsan :**\n",
        "\n",
        "modifikasi dari algoritma selection sort, yang akan mengurutkan elemen dalam sebuah list dari nilai terkecil hingga terbesar. Fungsi ini menerima satu parameter data yang merupakan list yang akan diurutkan.\n",
        "\n",
        "Pertama-tama, fungsi ini melakukan iterasi melalui setiap elemen dalam setengah panjang list dengan menggunakan perintah for angka in range(len(data)//2):. Di setiap iterasi, fungsi mengatur dua variabel indeks IndexMIN dan IndexMAX ke nilai angka. Variabel temp juga didefinisikan untuk digunakan di dalam loop yang berikutnya.\n",
        "\n",
        "Kemudian, di dalam setiap iterasi, fungsi mencetak pesan \"Iterasi Ke-\" dan nomor iterasi saat ini. Di dalam loop for berikutnya, fungsi mencari elemen dengan nilai terbesar di antara IndexMAX dan indeks yang lebih besar darinya. Jika ditemukan elemen dengan nilai yang lebih besar, maka IndexMAX diperbarui ke indeks elemen tersebut. Setelah loop for pertama selesai, elemen dengan nilai terkecil di tempatkan pada indeks angka dengan menggunakan perintah data[angka], data[IndexMAX] = data[IndexMAX], data[angka]. Kemudian, fungsi mencetak pesan \"Urut Data Minimal :\" dan list yang telah diurutkan.\n",
        "\n",
        "Setelah itu, fungsi melakukan loop untuk mencari elemen dengan nilai terkecil di antara IndexMIN dan indeks yang lebih kecil darinya. Jika ditemukan elemen dengan nilai yang lebih kecil, maka IndexMIN diperbarui ke indeks elemen tersebut. Setelah loop kedua selesai, elemen dengan nilai terbesar ditempatkan pada indeks len(data)-temp dengan menggunakan perintah data[len(data)-temp], data[IndexMIN] = data[IndexMIN], data[len(data)-temp]. Kemudian, fungsi mencetak pesan \"Urut Data Maksimal :\" dan list yang telah diurutkan.\n",
        "\n",
        "Setelah selesai melakukan iterasi, fungsi mengembalikan list yang telah diurutkan menggunakan perintah return data.\n",
        "\n",
        "Pada kode di bawah fungsi modifiedSelectionSort tersebut, terdapat pemanggilan fungsi tersebut untuk mengurutkan list data yang diberikan, dan kemudian mencetak pesan \"Data Yang Sudah Urut :\" beserta list yang telah diurutkan."
      ],
      "metadata": {
        "id": "kgko3agY9AVk"
      }
    }
  ]
}