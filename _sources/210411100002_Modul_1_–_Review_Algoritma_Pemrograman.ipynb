{
  "nbformat": 4,
  "nbformat_minor": 0,
  "metadata": {
    "colab": {
      "provenance": []
    },
    "kernelspec": {
      "name": "python3",
      "display_name": "Python 3"
    },
    "language_info": {
      "name": "python"
    }
  },
  "cells": [
    {
      "cell_type": "markdown",
      "source": [
        "# PRAKTIKUM STRUKTUR DATA : MODUL 1 - REVIEW ALGORITMA PEMROGRAMAN"
      ],
      "metadata": {
        "id": "pS2ZHLgQ8bHF"
      }
    },
    {
      "cell_type": "markdown",
      "source": [
        "NAMA : Mohammad Iqbal Surya Ramadhan\n",
        "\n",
        "---\n",
        "\n",
        "\n",
        "NIM  : 210411100002\n",
        "\n",
        "---\n",
        "\n",
        "\n",
        "Strukdat C\n",
        "\n",
        "---\n",
        "\n",
        "\n"
      ],
      "metadata": {
        "id": "cqhHQf0mjCfp"
      }
    },
    {
      "cell_type": "code",
      "source": [
        "def input_sparse_matrix():\n",
        "    baris=int(input(\"Jumlah baris = \"))\n",
        "    column=int(input(\"Jumlah kolom = \"))\n",
        "    vardat=int(input(\"Jumlah data= \"))\n",
        "    hasil=[[0 for j in range(column)] for i in range(baris)]\n",
        "    for i in range(vardat):\n",
        "        baris1=int(input(\"baris ke? \"))\n",
        "        column1=int(input(\"kolom ke? \"))\n",
        "        bariskolom=int(input(\"matrik [{},{}]=\".format(baris1, column1)))\n",
        "        hasil[baris1][column1] = bariskolom\n",
        "    return hasil\n",
        "\n",
        "hasil = input_sparse_matrix()\n",
        "hasil = input_sparse_matrix()"
      ],
      "metadata": {
        "colab": {
          "base_uri": "https://localhost:8080/"
        },
        "id": "W-dAU1iK75Pl",
        "outputId": "09b7fc47-b7a0-473d-b1d1-28b3362b06b5"
      },
      "execution_count": null,
      "outputs": [
        {
          "name": "stdout",
          "output_type": "stream",
          "text": [
            "Jumlah baris = 3\n",
            "Jumlah kolom = 4\n",
            "Jumlah data= 2\n",
            "baris ke? 0\n",
            "kolom ke? 0\n",
            "matrik [0,0]=2\n",
            "baris ke? 2\n",
            "kolom ke? 3\n",
            "matrik [2,3]=4\n",
            "Jumlah baris = 4\n",
            "Jumlah kolom = 1\n",
            "Jumlah data= 2\n",
            "baris ke? 0\n",
            "kolom ke? 0\n",
            "matrik [0,0]=3\n",
            "baris ke? 3\n",
            "kolom ke? 0\n",
            "matrik [3,0]=2\n"
          ]
        }
      ]
    },
    {
      "cell_type": "code",
      "source": [
        "def print_sparse_matrix(matrix):\n",
        "    baris=len(matrix)\n",
        "    kolom=len(matrix[0])\n",
        "    print(\"\\nMatriks sparse:\")\n",
        "    for i in range(baris):\n",
        "        for j in range(kolom):\n",
        "            if matrix[i][j] != 0:\n",
        "                print(\"| {} \".format(matrix[i][j]), end=\"\")\n",
        "            else:\n",
        "                print(\"| 0 \", end=\"\")\n",
        "        print(\"|\")\n",
        "\n",
        "matrix = [[2, 0, 0, 0],[0, 0, 0, 0],[0, 0, 0, 4]]\n",
        "print_sparse_matrix(matrix)\n",
        "\n",
        "matrix = [[3],[0],[0],[2]]\n",
        "print_sparse_matrix(matrix)"
      ],
      "metadata": {
        "colab": {
          "base_uri": "https://localhost:8080/"
        },
        "id": "stnJ41ff8l2D",
        "outputId": "c2d6bfa8-b78a-450e-8c63-2b6fb864576f"
      },
      "execution_count": null,
      "outputs": [
        {
          "output_type": "stream",
          "name": "stdout",
          "text": [
            "\n",
            "Matriks sparse:\n",
            "| 2 | 0 | 0 | 0 |\n",
            "| 0 | 0 | 0 | 0 |\n",
            "| 0 | 0 | 0 | 4 |\n",
            "\n",
            "Matriks sparse:\n",
            "| 3 |\n",
            "| 0 |\n",
            "| 0 |\n",
            "| 2 |\n"
          ]
        }
      ]
    },
    {
      "cell_type": "code",
      "source": [
        "def multiply_sparse_matrix(matrix1,matrix2):\n",
        "    baris1,kolom1=len(matrix1),len(matrix1[0])\n",
        "    baris2,kolom2=len(matrix2),len(matrix2[0])\n",
        "    if kolom1 != baris2:\n",
        "        print(\"Ukuran matriks tidak cocok untuk perkalian\")\n",
        "        return\n",
        "    hasilMatrix=[[0 for i in range(kolom2)] for i in range(baris1)]\n",
        "    \n",
        "    for i in range(baris1):\n",
        "        for j in range(kolom2):\n",
        "            for k in range(kolom1):\n",
        "                hasilMatrix[i][j] += matrix1[i][k] * matrix2[k][j]\n",
        "    print(\"Matriks hasil:\")\n",
        "    for i in range(baris1):\n",
        "        print(\"| \", end=\"\")\n",
        "        for j in range(kolom2):\n",
        "            print(\"{} \".format(hasilMatrix[i][j]), end=\"\")\n",
        "        print(\"|\")\n",
        "\n",
        "matrix1 = [[2, 0, 0, 0],[0, 0, 0, 0],[0, 0, 0, 4]]\n",
        "matrix2 = [[3],[0],[0],[2]]\n",
        "\n",
        "print_sparse_matrix(matrix1)\n",
        "print_sparse_matrix(matrix2)\n",
        "multiply_sparse_matrix(matrix1, matrix2)"
      ],
      "metadata": {
        "colab": {
          "base_uri": "https://localhost:8080/"
        },
        "id": "1zadUEcH8q-e",
        "outputId": "38e6c2a1-6a80-4fef-a95d-24081ce0cde4"
      },
      "execution_count": null,
      "outputs": [
        {
          "output_type": "stream",
          "name": "stdout",
          "text": [
            "\n",
            "Matriks sparse:\n",
            "| 2 | 0 | 0 | 0 |\n",
            "| 0 | 0 | 0 | 0 |\n",
            "| 0 | 0 | 0 | 4 |\n",
            "\n",
            "Matriks sparse:\n",
            "| 3 |\n",
            "| 0 |\n",
            "| 0 |\n",
            "| 2 |\n",
            "Matriks hasil:\n",
            "| 6 |\n",
            "| 0 |\n",
            "| 8 |\n"
          ]
        }
      ]
    }
  ]
}